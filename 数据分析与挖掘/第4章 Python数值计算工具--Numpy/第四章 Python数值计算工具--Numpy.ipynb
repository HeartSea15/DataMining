{
 "cells": [
  {
   "cell_type": "code",
   "execution_count": 1,
   "metadata": {
    "ExecuteTime": {
     "end_time": "2019-10-03T13:00:22.347909Z",
     "start_time": "2019-10-03T13:00:22.330907Z"
    }
   },
   "outputs": [
    {
     "name": "stdout",
     "output_type": "stream",
     "text": [
      "一维数组：\n",
      " [ 3 10  8  7 34 11 28 72]\n",
      "二维数组：\n",
      " [[ 8.5  6.   4.1  2.   0.7]\n",
      " [ 1.5  3.   5.4  7.3  9. ]\n",
      " [ 3.2  3.   3.8  3.   3. ]\n",
      " [11.2 13.4 15.6 17.8 19. ]]\n"
     ]
    }
   ],
   "source": [
    "# 导入模块，并重命名为np\n",
    "import numpy as np\n",
    "# 单个列表创建一维数组\n",
    "arr1 = np.array([3,10,8,7,34,11,28,72])\n",
    "# 嵌套元组创建二维数组\n",
    "arr2 = np.array(((8.5,6,4.1,2,0.7),(1.5,3,5.4,7.3,9),(3.2,3,3.8,3,3),(11.2,13.4,15.6,17.8,19)))\n",
    "print('一维数组：\\n',arr1)\n",
    "print('二维数组：\\n',arr2)"
   ]
  },
  {
   "cell_type": "code",
   "execution_count": 2,
   "metadata": {
    "ExecuteTime": {
     "end_time": "2019-10-03T13:10:24.812585Z",
     "start_time": "2019-10-03T13:10:24.796583Z"
    },
    "scrolled": true
   },
   "outputs": [
    {
     "name": "stdout",
     "output_type": "stream",
     "text": [
      "[ 8  7 11 72]\n",
      "5.4\n",
      "[3.2 3.  3.8 3.  3. ]\n",
      "[ 6.   3.   3.  13.4]\n",
      "[[ 3.   5.4  7.3  9. ]\n",
      " [ 3.   3.8  3.   3. ]\n",
      " [13.4 15.6 17.8 19. ]]\n"
     ]
    }
   ],
   "source": [
    "# 一维数组元素的获取\n",
    "print(arr1[[2,3,5,7]])\n",
    "\n",
    "# 二维数组元素的获取\n",
    "# 第2行第3列元素\n",
    "print(arr2[1,2])\n",
    "\n",
    "# 第3行所有元素\n",
    "print(arr2[2,:])\n",
    "\n",
    "# 第2列所有元素\n",
    "print(arr2[:,1])\n",
    "\n",
    "# 第2至4行，2至5行\n",
    "print(arr2[1:4,1:5])"
   ]
  },
  {
   "cell_type": "code",
   "execution_count": 5,
   "metadata": {
    "ExecuteTime": {
     "end_time": "2019-10-03T13:25:04.910240Z",
     "start_time": "2019-10-03T13:25:04.885240Z"
    }
   },
   "outputs": [
    {
     "data": {
      "text/plain": [
       "array([[ 8.5,  6. ,  4.1,  2. ,  0.7],\n",
       "       [ 1.5,  3. ,  5.4,  7.3,  9. ],\n",
       "       [ 3.2,  3. ,  3.8,  3. ,  3. ],\n",
       "       [11.2, 13.4, 15.6, 17.8, 19. ]])"
      ]
     },
     "execution_count": 5,
     "metadata": {},
     "output_type": "execute_result"
    }
   ],
   "source": [
    "arr2"
   ]
  },
  {
   "cell_type": "code",
   "execution_count": 4,
   "metadata": {
    "ExecuteTime": {
     "end_time": "2019-10-03T13:24:54.335632Z",
     "start_time": "2019-10-03T13:24:54.312630Z"
    }
   },
   "outputs": [
    {
     "name": "stdout",
     "output_type": "stream",
     "text": [
      "[ 6.  17.8]\n"
     ]
    },
    {
     "ename": "IndexError",
     "evalue": "shape mismatch: indexing arrays could not be broadcast together with shapes (2,) (3,) ",
     "output_type": "error",
     "traceback": [
      "\u001b[1;31m---------------------------------------------------------------------------\u001b[0m",
      "\u001b[1;31mIndexError\u001b[0m                                Traceback (most recent call last)",
      "\u001b[1;32m<ipython-input-4-e3e7086931be>\u001b[0m in \u001b[0;36m<module>\u001b[1;34m\u001b[0m\n\u001b[0;32m      3\u001b[0m \u001b[0mprint\u001b[0m\u001b[1;33m(\u001b[0m\u001b[0marr2\u001b[0m\u001b[1;33m[\u001b[0m\u001b[1;33m[\u001b[0m\u001b[1;36m0\u001b[0m\u001b[1;33m,\u001b[0m\u001b[1;33m-\u001b[0m\u001b[1;36m1\u001b[0m\u001b[1;33m]\u001b[0m\u001b[1;33m,\u001b[0m\u001b[1;33m[\u001b[0m\u001b[1;36m1\u001b[0m\u001b[1;33m,\u001b[0m\u001b[1;36m3\u001b[0m\u001b[1;33m]\u001b[0m\u001b[1;33m]\u001b[0m\u001b[1;33m)\u001b[0m\u001b[1;33m\u001b[0m\u001b[1;33m\u001b[0m\u001b[0m\n\u001b[0;32m      4\u001b[0m \u001b[1;31m# 第一行、最后一行和第一列、第三列、第四列构成的数组\u001b[0m\u001b[1;33m\u001b[0m\u001b[1;33m\u001b[0m\u001b[1;33m\u001b[0m\u001b[0m\n\u001b[1;32m----> 5\u001b[1;33m \u001b[0mprint\u001b[0m\u001b[1;33m(\u001b[0m\u001b[0marr2\u001b[0m\u001b[1;33m[\u001b[0m\u001b[1;33m[\u001b[0m\u001b[1;36m0\u001b[0m\u001b[1;33m,\u001b[0m\u001b[1;33m-\u001b[0m\u001b[1;36m1\u001b[0m\u001b[1;33m]\u001b[0m\u001b[1;33m,\u001b[0m\u001b[1;33m[\u001b[0m\u001b[1;36m1\u001b[0m\u001b[1;33m,\u001b[0m\u001b[1;36m2\u001b[0m\u001b[1;33m,\u001b[0m\u001b[1;36m3\u001b[0m\u001b[1;33m]\u001b[0m\u001b[1;33m]\u001b[0m\u001b[1;33m)\u001b[0m\u001b[1;33m\u001b[0m\u001b[1;33m\u001b[0m\u001b[0m\n\u001b[0m",
      "\u001b[1;31mIndexError\u001b[0m: shape mismatch: indexing arrays could not be broadcast together with shapes (2,) (3,) "
     ]
    }
   ],
   "source": [
    "# 第一行、最后一行和第二列、第四列构成的数组\n",
    "print(arr2[[0,-1],[1,3]])    # 错误的理解成了[0,1]和[-1,3]\n",
    "# 第一行、最后一行和第一列、第三列、第四列构成的数组\n",
    "print(arr2[[0,-1],[1,2,3]])"
   ]
  },
  {
   "cell_type": "code",
   "execution_count": 6,
   "metadata": {
    "ExecuteTime": {
     "end_time": "2019-10-03T13:28:50.452222Z",
     "start_time": "2019-10-03T13:28:50.442221Z"
    }
   },
   "outputs": [
    {
     "name": "stdout",
     "output_type": "stream",
     "text": [
      "[[ 6.   2. ]\n",
      " [13.4 17.8]]\n",
      "[[ 6.   4.1  2. ]\n",
      " [13.4 15.6 17.8]]\n"
     ]
    }
   ],
   "source": [
    "# 第一行、最后一行和第二列、第四列构成的数组\n",
    "print(arr2[np.ix_([0,-1],[1,3])])\n",
    "# 第一行、最后一行和第一列、第三列、第四列构成的数组\n",
    "print(arr2[np.ix_([0,-1],[1,2,3])])"
   ]
  },
  {
   "cell_type": "code",
   "execution_count": 18,
   "metadata": {
    "ExecuteTime": {
     "end_time": "2019-10-03T13:40:45.430375Z",
     "start_time": "2019-10-03T13:40:45.386372Z"
    }
   },
   "outputs": [
    {
     "name": "stdout",
     "output_type": "stream",
     "text": [
      "<class 'numpy.ndarray'>\n",
      "2\n",
      "(1380, 5)\n",
      "float64\n",
      "6900\n"
     ]
    }
   ],
   "source": [
    "# 读入数据\n",
    "stu_score = np.genfromtxt(fname = r'stu_score.txt',delimiter='\\t',skip_header=1)  # 跳过第一行\n",
    "# 查看数据结构\n",
    "print(type(stu_score))\n",
    "\n",
    "# 查看数据维数\n",
    "print(stu_score.ndim)\n",
    "\n",
    "# 查看数据行列数\n",
    "print(stu_score.shape)\n",
    "\n",
    "# 查看数组元素的数据类型\n",
    "print(stu_score.dtype)\n",
    "\n",
    "# 查看数组元素个数\n",
    "print(stu_score.size)"
   ]
  },
  {
   "cell_type": "code",
   "execution_count": 20,
   "metadata": {
    "ExecuteTime": {
     "end_time": "2019-10-03T13:43:17.232112Z",
     "start_time": "2019-10-03T13:43:17.217110Z"
    }
   },
   "outputs": [
    {
     "name": "stdout",
     "output_type": "stream",
     "text": [
      "(6, 3)\n",
      "[[1 5 7 3 6 1 2 4 8]\n",
      " [5 8 9 1 5 9 8 5 2]]\n",
      "(6, 3)\n",
      "None\n",
      "(2, 9)\n"
     ]
    }
   ],
   "source": [
    "arr3 = np.array([[1,5,7],[3,6,1],[2,4,8],[5,8,9],[1,5,9],[8,5,2]])\n",
    "\n",
    "# 数组的行列数\n",
    "print(arr3.shape)\n",
    "\n",
    "# 使用reshape方法更改数组的形状，返回预览，但不改变数组\n",
    "print(arr3.reshape(2,9))\n",
    "\n",
    "# 打印数组arr3的行列数\n",
    "print(arr3.shape)\n",
    "\n",
    "# 使用resize方法更改数组的形状，不返回预览，但改变数组\n",
    "print(arr3.resize(2,9))\n",
    "\n",
    "# 打印数组arr3的行列数\n",
    "print(arr3.shape)"
   ]
  },
  {
   "cell_type": "code",
   "execution_count": 21,
   "metadata": {
    "ExecuteTime": {
     "end_time": "2019-10-03T13:45:27.069585Z",
     "start_time": "2019-10-03T13:45:27.048583Z"
    }
   },
   "outputs": [
    {
     "name": "stdout",
     "output_type": "stream",
     "text": [
      "原数组：\n",
      " [[  1  10 100]\n",
      " [  2  20 200]\n",
      " [  3  30 300]]\n",
      "数组降维：\n",
      " [  1  10 100   2  20 200   3  30 300]\n",
      "[  1  10 100   2  20 200   3  30 300]\n",
      "[  1  10 100   2  20 200   3  30 300]\n",
      "[  1   2   3  10  20  30 100 200 300]\n",
      "[  1   2   3  10  20  30 100 200 300]\n",
      "[  1   2   3  10  20  30 100 200 300]\n"
     ]
    }
   ],
   "source": [
    "arr4 = np.array([[1,10,100],[2,20,200],[3,30,300]])\n",
    "print('原数组：\\n',arr4)\n",
    "# 默认排序降维\n",
    "print('数组降维：\\n',arr4.ravel())  # 默认按行\n",
    "print(arr4.flatten())\n",
    "print(arr4.reshape(-1))\n",
    "# 改变排序模式的降维\n",
    "print(arr4.ravel(order = 'F'))     # 设置，按列\n",
    "print(arr4.flatten(order = 'F'))\n",
    "print(arr4.reshape(-1, order = 'F'))"
   ]
  },
  {
   "cell_type": "code",
   "execution_count": 22,
   "metadata": {
    "ExecuteTime": {
     "end_time": "2019-10-03T13:50:36.748409Z",
     "start_time": "2019-10-03T13:50:36.736407Z"
    },
    "scrolled": true
   },
   "outputs": [
    {
     "name": "stdout",
     "output_type": "stream",
     "text": [
      "flatten方法：\n",
      " [[  1  10 100]\n",
      " [  2  20 200]\n",
      " [  3  30 300]]\n",
      "ravel方法：\n",
      " [[   1 1000  100]\n",
      " [   2   20  200]\n",
      " [   3   30  300]]\n",
      "reshape方法：\n",
      " [[   1 1000 3000]\n",
      " [   2   20  200]\n",
      " [   3   30  300]]\n"
     ]
    }
   ],
   "source": [
    "# 更改预览值\n",
    "arr4.flatten()[0] = 2000\n",
    "print('flatten方法：\\n',arr4)   # 不会影响\n",
    "\n",
    "arr4.ravel()[1] = 1000\n",
    "print('ravel方法：\\n',arr4)     # 会影响\n",
    "\n",
    "arr4.reshape(-1)[2] = 3000\n",
    "print('reshape方法：\\n',arr4)   # 会影响"
   ]
  },
  {
   "cell_type": "code",
   "execution_count": 24,
   "metadata": {
    "ExecuteTime": {
     "end_time": "2019-10-03T13:55:27.236129Z",
     "start_time": "2019-10-03T13:55:27.227128Z"
    }
   },
   "outputs": [
    {
     "data": {
      "text/plain": [
       "array([[   1, 1000, 3000],\n",
       "       [   2,   20,  200],\n",
       "       [   3,   30,  300]])"
      ]
     },
     "execution_count": 24,
     "metadata": {},
     "output_type": "execute_result"
    }
   ],
   "source": [
    "arr4"
   ]
  },
  {
   "cell_type": "code",
   "execution_count": 25,
   "metadata": {
    "ExecuteTime": {
     "end_time": "2019-10-03T13:56:36.479114Z",
     "start_time": "2019-10-03T13:56:36.467114Z"
    }
   },
   "outputs": [
    {
     "name": "stdout",
     "output_type": "stream",
     "text": [
      "vstack纵向合并数组：\n",
      " [[   1 1000 3000]\n",
      " [   2   20  200]\n",
      " [   3   30  300]\n",
      " [   1    2    3]]\n",
      "row_stack纵向合并数组：\n",
      " [[   1 1000 3000]\n",
      " [   2   20  200]\n",
      " [   3   30  300]\n",
      " [   1    2    3]]\n"
     ]
    }
   ],
   "source": [
    "arr5 = np.array([1,2,3])\n",
    "print('vstack纵向合并数组：\\n',np.vstack([arr4,arr5]))\n",
    "print('row_stack纵向合并数组：\\n',np.row_stack([arr4,arr5]))"
   ]
  },
  {
   "cell_type": "code",
   "execution_count": 26,
   "metadata": {
    "ExecuteTime": {
     "end_time": "2019-10-03T13:57:30.410218Z",
     "start_time": "2019-10-03T13:57:30.397217Z"
    }
   },
   "outputs": [
    {
     "name": "stdout",
     "output_type": "stream",
     "text": [
      "hstack横向合并数组：\n",
      " [[   1 1000 3000    5]\n",
      " [   2   20  200   15]\n",
      " [   3   30  300   25]]\n",
      "column_stack横向合并数组：\n",
      " [[   1 1000 3000    5]\n",
      " [   2   20  200   15]\n",
      " [   3   30  300   25]]\n"
     ]
    }
   ],
   "source": [
    "arr6 = np.array([[5],[15],[25]])\n",
    "print('hstack横向合并数组：\\n',np.hstack([arr4,arr6]))\n",
    "print('column_stack横向合并数组：\\n',np.column_stack([arr4,arr6]))"
   ]
  },
  {
   "cell_type": "code",
   "execution_count": 27,
   "metadata": {
    "ExecuteTime": {
     "end_time": "2019-10-03T13:58:29.783636Z",
     "start_time": "2019-10-03T13:58:29.773635Z"
    },
    "scrolled": true
   },
   "outputs": [
    {
     "name": "stdout",
     "output_type": "stream",
     "text": [
      "[[   1 1000 3000]\n",
      " [   2   20  200]\n",
      " [   3   30  300]]\n",
      "垂直方向计算数组的和：\n",
      " [   6 1050 3500]\n",
      "水平方向计算数组的和：\n",
      " [4001  222  333]\n"
     ]
    }
   ],
   "source": [
    "print(arr4)\n",
    "print('垂直方向计算数组的和：\\n',np.sum(arr4,axis = 0))\n",
    "print('水平方向计算数组的和：\\n',np.sum(arr4, axis = 1))"
   ]
  },
  {
   "cell_type": "code",
   "execution_count": 28,
   "metadata": {
    "ExecuteTime": {
     "end_time": "2019-10-03T13:59:36.642484Z",
     "start_time": "2019-10-03T13:59:36.627482Z"
    }
   },
   "outputs": [
    {
     "name": "stdout",
     "output_type": "stream",
     "text": [
      "符号加法：\n",
      " [258 240 228 259 229 248]\n",
      "函数加法：\n",
      " [258 240 228 259 229 248]\n"
     ]
    }
   ],
   "source": [
    "# 加法运算\n",
    "math = np.array([98,83,86,92,67,82])\n",
    "english = np.array([68,74,66,82,75,89])\n",
    "chinese = np.array([92,83,76,85,87,77])\n",
    "tot_symbol = math+english+chinese\n",
    "tot_fun = np.add(np.add(math,english),chinese)    # 函数只能接受两个对象的元素\n",
    "print('符号加法：\\n',tot_symbol)\n",
    "print('函数加法：\\n',tot_fun)"
   ]
  },
  {
   "cell_type": "code",
   "execution_count": 29,
   "metadata": {
    "ExecuteTime": {
     "end_time": "2019-10-03T14:01:34.835287Z",
     "start_time": "2019-10-03T14:01:34.817285Z"
    }
   },
   "outputs": [
    {
     "name": "stdout",
     "output_type": "stream",
     "text": [
      "符号除法：\n",
      " [22.77318641 23.30109483 23.63403301 25.20920136 26.7299275 ]\n",
      "函数除法：\n",
      " [22.77318641 23.30109483 23.63403301 25.20920136 26.7299275 ]\n"
     ]
    }
   ],
   "source": [
    "# 除法运算\n",
    "height = np.array([165,177,158,169,173])\n",
    "weight = np.array([62,73,59,72,80])\n",
    "BMI_symbol = weight/(height/100)**2\n",
    "BMI_fun = np.divide(weight,np.divide(height,100)**2)\n",
    "print('符号除法：\\n',BMI_symbol)\n",
    "print('函数除法：\\n',BMI_fun)"
   ]
  },
  {
   "cell_type": "code",
   "execution_count": 30,
   "metadata": {
    "ExecuteTime": {
     "end_time": "2019-10-03T14:02:18.896823Z",
     "start_time": "2019-10-03T14:02:18.877821Z"
    }
   },
   "outputs": [
    {
     "name": "stdout",
     "output_type": "stream",
     "text": [
      "数组arr7：\n",
      " [[ 1  2 10]\n",
      " [10  8  3]\n",
      " [ 7  6  5]]\n",
      "数组arr8：\n",
      " [[2 2 2]\n",
      " [3 3 3]\n",
      " [4 4 4]]\n",
      "计算余数：\n",
      " [[1 0 0]\n",
      " [1 2 0]\n",
      " [3 2 1]]\n",
      "计算整除：\n",
      " [[0 1 5]\n",
      " [3 2 1]\n",
      " [1 1 1]]\n",
      "计算指数：\n",
      " [[   1    4  100]\n",
      " [1000  512   27]\n",
      " [2401 1296  625]]\n"
     ]
    }
   ],
   "source": [
    "arr7 = np.array([[1,2,10],[10,8,3],[7,6,5]])\n",
    "arr8 = np.array([[2,2,2],[3,3,3],[4,4,4]])\n",
    "print('数组arr7：\\n',arr7)\n",
    "print('数组arr8：\\n',arr8)\n",
    "# 求余数\n",
    "print('计算余数：\\n',arr7 % arr8)\n",
    "# 求整除\n",
    "print('计算整除：\\n',arr7 // arr8)\n",
    "# 求指数\n",
    "print('计算指数：\\n',arr7 ** arr8)"
   ]
  },
  {
   "cell_type": "code",
   "execution_count": 33,
   "metadata": {
    "ExecuteTime": {
     "end_time": "2019-10-03T14:05:45.246702Z",
     "start_time": "2019-10-03T14:05:45.222699Z"
    }
   },
   "outputs": [
    {
     "data": {
      "text/plain": [
       "array([[0., 1., 5.],\n",
       "       [3., 2., 1.],\n",
       "       [1., 1., 1.]])"
      ]
     },
     "execution_count": 33,
     "metadata": {},
     "output_type": "execute_result"
    }
   ],
   "source": [
    "# 整除部分\n",
    "np.modf(arr7/arr8)[1]    "
   ]
  },
  {
   "cell_type": "code",
   "execution_count": 38,
   "metadata": {
    "ExecuteTime": {
     "end_time": "2019-10-03T14:12:44.555834Z",
     "start_time": "2019-10-03T14:12:44.538833Z"
    },
    "scrolled": false
   },
   "outputs": [
    {
     "name": "stdout",
     "output_type": "stream",
     "text": [
      "7数组 [[ 1  2 10]\n",
      " [10  8  3]\n",
      " [ 7  6  5]]\n",
      "8数组 [[2 2 2]\n",
      " [3 3 3]\n",
      " [4 4 4]]\n",
      "满足条件的二维数组元素获取：\n",
      " [10 10  8  7  6  5]\n",
      "满足条件的一维数组元素获取：\n",
      " [23 16 17 22 15]\n",
      "二维数组的条件操作：\n",
      " [[1 2 5]\n",
      " [5 5 3]\n",
      " [7 6 5]]\n",
      "一维数组的条件操作：\n",
      " [0 0 1 0 1 0 1 1 0 0 1]\n"
     ]
    }
   ],
   "source": [
    "# 取子集\n",
    "# 从arr7中取出arr7大于arr8的所有元素\n",
    "print('7数组',arr7)\n",
    "print('8数组',arr8)\n",
    "print('满足条件的二维数组元素获取：\\n',arr7[arr7>arr8])\n",
    "\n",
    "# 从arr9中取出大于10的元素\n",
    "arr9 = np.array([3,10,23,7,16,9,17,22,4,8,15])\n",
    "print('满足条件的一维数组元素获取：\\n',arr9[arr9>10])\n",
    "\n",
    "# 判断操作\n",
    "# 将arr7中大于7的元素改成5，其余的不变\n",
    "print('二维数组的条件操作：\\n',np.where(arr7>7,5,arr7))\n",
    "# 将arr9中大于10 的元素改为1，否则改为0\n",
    "print('一维数组的条件操作：\\n',np.where(arr9>10,1,0))"
   ]
  },
  {
   "cell_type": "code",
   "execution_count": 41,
   "metadata": {
    "ExecuteTime": {
     "end_time": "2019-10-03T14:16:50.856011Z",
     "start_time": "2019-10-03T14:16:50.827010Z"
    }
   },
   "outputs": [],
   "source": [
    "%config ZMQInteractiveShell.ast_node_interactivity='all'   # nootbook使用"
   ]
  },
  {
   "cell_type": "code",
   "execution_count": 42,
   "metadata": {
    "ExecuteTime": {
     "end_time": "2019-10-03T14:16:56.625343Z",
     "start_time": "2019-10-03T14:16:56.604340Z"
    },
    "scrolled": true
   },
   "outputs": [
    {
     "data": {
      "text/plain": [
       "array([[ 0,  1,  2,  3],\n",
       "       [ 4,  5,  6,  7],\n",
       "       [ 8,  9, 10, 11]])"
      ]
     },
     "execution_count": 42,
     "metadata": {},
     "output_type": "execute_result"
    },
    {
     "data": {
      "text/plain": [
       "array([[101, 102, 103, 104],\n",
       "       [105, 106, 107, 108],\n",
       "       [109, 110, 111, 112]])"
      ]
     },
     "execution_count": 42,
     "metadata": {},
     "output_type": "execute_result"
    },
    {
     "name": "stdout",
     "output_type": "stream",
     "text": [
      "3×4的二维矩阵运算：\n",
      " [[101 103 105 107]\n",
      " [109 111 113 115]\n",
      " [117 119 121 123]]\n"
     ]
    }
   ],
   "source": [
    "# 各输入数组维度一致，对应维度值相等\n",
    "arr10 = np.arange(12).reshape(3,4)\n",
    "arr11 = np.arange(101,113).reshape(3,4)\n",
    "arr10\n",
    "arr11\n",
    "print('3×4的二维矩阵运算：\\n',arr10 + arr11)"
   ]
  },
  {
   "cell_type": "code",
   "execution_count": 45,
   "metadata": {
    "ExecuteTime": {
     "end_time": "2019-10-03T14:18:58.521359Z",
     "start_time": "2019-10-03T14:18:58.470356Z"
    },
    "scrolled": true
   },
   "outputs": [
    {
     "data": {
      "text/plain": [
       "array([[[ 0,  1,  2],\n",
       "        [ 3,  4,  5],\n",
       "        [ 6,  7,  8],\n",
       "        [ 9, 10, 11]],\n",
       "\n",
       "       [[12, 13, 14],\n",
       "        [15, 16, 17],\n",
       "        [18, 19, 20],\n",
       "        [21, 22, 23]]])"
      ]
     },
     "execution_count": 45,
     "metadata": {},
     "output_type": "execute_result"
    },
    {
     "data": {
      "text/plain": [
       "array([[ 0,  1,  2],\n",
       "       [ 3,  4,  5],\n",
       "       [ 6,  7,  8],\n",
       "       [ 9, 10, 11]])"
      ]
     },
     "execution_count": 45,
     "metadata": {},
     "output_type": "execute_result"
    },
    {
     "name": "stdout",
     "output_type": "stream",
     "text": [
      "维数不一致，但末尾的维度值一致：\n",
      " [[[ 0  2  4]\n",
      "  [ 6  8 10]\n",
      "  [12 14 16]\n",
      "  [18 20 22]]\n",
      "\n",
      " [[12 14 16]\n",
      "  [18 20 22]\n",
      "  [24 26 28]\n",
      "  [30 32 34]]]\n"
     ]
    }
   ],
   "source": [
    "# 各输入数组维度不一致，对应维度值相等\n",
    "arr12 = np.arange(24).reshape(2,4,3)\n",
    "arr10 = np.arange(12).reshape(4,3)\n",
    "arr12\n",
    "arr10\n",
    "print('维数不一致，但末尾的维度值一致：\\n',arr12 + arr10)"
   ]
  },
  {
   "cell_type": "code",
   "execution_count": 49,
   "metadata": {
    "ExecuteTime": {
     "end_time": "2019-10-03T14:23:48.976076Z",
     "start_time": "2019-10-03T14:23:48.953074Z"
    }
   },
   "outputs": [
    {
     "data": {
      "text/plain": [
       "array([[[ 0,  1,  2],\n",
       "        [ 3,  4,  5],\n",
       "        [ 6,  7,  8],\n",
       "        [ 9, 10, 11]],\n",
       "\n",
       "       [[12, 13, 14],\n",
       "        [15, 16, 17],\n",
       "        [18, 19, 20],\n",
       "        [21, 22, 23]]])"
      ]
     },
     "execution_count": 49,
     "metadata": {},
     "output_type": "execute_result"
    },
    {
     "data": {
      "text/plain": [
       "array([[0],\n",
       "       [1],\n",
       "       [2],\n",
       "       [3]])"
      ]
     },
     "execution_count": 49,
     "metadata": {},
     "output_type": "execute_result"
    },
    {
     "name": "stdout",
     "output_type": "stream",
     "text": [
      "维数不一致，维度值也不一致，但维度值至少一个为1：\n",
      " [[[ 0  1  2]\n",
      "  [ 4  5  6]\n",
      "  [ 8  9 10]\n",
      "  [12 13 14]]\n",
      "\n",
      " [[12 13 14]\n",
      "  [16 17 18]\n",
      "  [20 21 22]\n",
      "  [24 25 26]]]\n"
     ]
    }
   ],
   "source": [
    "# 各输入数组维度不一致，对应维度值不相等，但其中有一个为1\n",
    "arr12 = np.arange(24).reshape(2,4,3)\n",
    "arr13 = np.arange(4).reshape(4,1)\n",
    "arr12\n",
    "arr13\n",
    "print('维数不一致，维度值也不一致，但维度值至少一个为1：\\n',arr12 + arr13)"
   ]
  },
  {
   "cell_type": "code",
   "execution_count": 50,
   "metadata": {
    "ExecuteTime": {
     "end_time": "2019-10-03T14:24:58.083055Z",
     "start_time": "2019-10-03T14:24:58.066052Z"
    }
   },
   "outputs": [
    {
     "data": {
      "text/plain": [
       "array([ 5, 15, 25])"
      ]
     },
     "execution_count": 50,
     "metadata": {},
     "output_type": "execute_result"
    },
    {
     "data": {
      "text/plain": [
       "array([[ 0,  1,  2],\n",
       "       [ 3,  4,  5],\n",
       "       [ 6,  7,  8],\n",
       "       [ 9, 10, 11]])"
      ]
     },
     "execution_count": 50,
     "metadata": {},
     "output_type": "execute_result"
    },
    {
     "name": "stdout",
     "output_type": "stream",
     "text": [
      "arr14的维度自动补齐为(1,3)：\n",
      " [[ 5 16 27]\n",
      " [ 8 19 30]\n",
      " [11 22 33]\n",
      " [14 25 36]]\n"
     ]
    }
   ],
   "source": [
    "# 加1补齐\n",
    "arr14 = np.array([5,15,25])\n",
    "arr14\n",
    "arr10\n",
    "print('arr14的维度自动补齐为(1,3)：\\n',arr10 + arr14)"
   ]
  },
  {
   "cell_type": "code",
   "execution_count": 52,
   "metadata": {
    "ExecuteTime": {
     "end_time": "2019-10-03T14:37:53.887710Z",
     "start_time": "2019-10-03T14:37:53.853706Z"
    }
   },
   "outputs": [
    {
     "name": "stdout",
     "output_type": "stream",
     "text": [
      "一维数组的点积：\n",
      " 32\n",
      "两个二维数组：\n",
      "[[ 0  1  2]\n",
      " [ 3  4  5]\n",
      " [ 6  7  8]\n",
      " [ 9 10 11]]\n",
      "[[101 102 103 104]\n",
      " [105 106 107 108]\n",
      " [109 110 111 112]]\n",
      "二维数组的乘法：\n",
      " [[ 323  326  329  332]\n",
      " [1268 1280 1292 1304]\n",
      " [2213 2234 2255 2276]\n",
      " [3158 3188 3218 3248]]\n"
     ]
    }
   ],
   "source": [
    "# 一维数组的点积\n",
    "vector_dot = np.dot(np.array([1,2,3]), np.array([4,5,6]))\n",
    "print('一维数组的点积：\\n',vector_dot)\n",
    "\n",
    "# 二维数组的乘法\n",
    "print('两个二维数组：')\n",
    "print(arr10)\n",
    "print(arr11)\n",
    "arr2d = np.dot(arr10,arr11)\n",
    "print('二维数组的乘法：\\n',arr2d)"
   ]
  },
  {
   "cell_type": "code",
   "execution_count": 53,
   "metadata": {
    "ExecuteTime": {
     "end_time": "2019-10-03T14:41:12.554141Z",
     "start_time": "2019-10-03T14:41:12.538140Z"
    }
   },
   "outputs": [
    {
     "name": "stdout",
     "output_type": "stream",
     "text": [
      "4×4的矩阵：\n",
      " [[ 0  1  2  3]\n",
      " [ 4  5  6  7]\n",
      " [ 8  9 10 11]\n",
      " [12 13 14 15]]\n",
      "取出矩阵的主对角线元素：\n",
      " [ 0  5 10 15]\n",
      "由一维数组构造的方阵：\n",
      " [[ 5  0  0]\n",
      " [ 0 15  0]\n",
      " [ 0  0 25]]\n"
     ]
    }
   ],
   "source": [
    "# diag的使用\n",
    "arr15 = np.arange(16).reshape(4,-1)\n",
    "print('4×4的矩阵：\\n',arr15)\n",
    "print('取出矩阵的主对角线元素：\\n',np.diag(arr15))\n",
    "print('由一维数组构造的方阵：\\n',np.diag(np.array([5,15,25])))"
   ]
  },
  {
   "cell_type": "code",
   "execution_count": 54,
   "metadata": {
    "ExecuteTime": {
     "end_time": "2019-10-03T14:43:36.594432Z",
     "start_time": "2019-10-03T14:43:36.532427Z"
    }
   },
   "outputs": [
    {
     "name": "stdout",
     "output_type": "stream",
     "text": [
      "计算3×3方阵的特征根和特征向量：\n",
      " [[1 2 5]\n",
      " [3 6 8]\n",
      " [4 7 9]]\n",
      "求解结果为：\n",
      " (array([16.75112093, -1.12317544,  0.37205451]), array([[-0.30758888, -0.90292521,  0.76324346],\n",
      "       [-0.62178217, -0.09138877, -0.62723398],\n",
      "       [-0.72026108,  0.41996923,  0.15503853]]))\n"
     ]
    }
   ],
   "source": [
    "# 计算方阵的特征向量和特征根\n",
    "arr16 = np.array([[1,2,5],[3,6,8],[4,7,9]])\n",
    "print('计算3×3方阵的特征根和特征向量：\\n',arr16)\n",
    "print('求解结果为：\\n',np.linalg.eig(arr16))"
   ]
  },
  {
   "cell_type": "code",
   "execution_count": 55,
   "metadata": {
    "ExecuteTime": {
     "end_time": "2019-10-03T14:45:50.355131Z",
     "start_time": "2019-10-03T14:45:50.327129Z"
    }
   },
   "outputs": [
    {
     "name": "stdout",
     "output_type": "stream",
     "text": [
      "偏回归系数为：\n",
      " [1.78052227 0.24720413 0.15841148 0.13339845]\n"
     ]
    }
   ],
   "source": [
    "# 计算偏回归系数\n",
    "X = np.array([[1,1,4,3],[1,2,7,6],[1,2,6,6],[1,3,8,7],[1,2,5,8],[1,3,7,5],[1,6,10,12],[1,5,7,7],[1,6,3,4],[1,5,7,8]])\n",
    "Y = np.array([3.2,3.8,3.7,4.3,4.4,5.2,6.7,4.8,4.2,5.1])\n",
    "\n",
    "X_trans_X_inverse = np.linalg.inv(np.dot(np.transpose(X),X))\n",
    "beta = np.dot(np.dot(X_trans_X_inverse,np.transpose(X)),Y)\n",
    "print('偏回归系数为：\\n',beta)"
   ]
  },
  {
   "cell_type": "code",
   "execution_count": 56,
   "metadata": {
    "ExecuteTime": {
     "end_time": "2019-10-03T14:55:04.307016Z",
     "start_time": "2019-10-03T14:55:04.290013Z"
    }
   },
   "outputs": [
    {
     "name": "stdout",
     "output_type": "stream",
     "text": [
      "三元一次方程组的解：\n",
      " [9.25 4.25 2.75]\n"
     ]
    }
   ],
   "source": [
    "# 多元线性方程组\n",
    "A = np.array([[3,2,1],[2,3,1],[1,2,3]])\n",
    "b = np.array([39,34,26])\n",
    "X = np.linalg.solve(A,b)\n",
    "print('三元一次方程组的解：\\n',X)"
   ]
  },
  {
   "cell_type": "code",
   "execution_count": 57,
   "metadata": {
    "ExecuteTime": {
     "end_time": "2019-10-03T14:55:57.746090Z",
     "start_time": "2019-10-03T14:55:57.728090Z"
    },
    "scrolled": true
   },
   "outputs": [
    {
     "name": "stdout",
     "output_type": "stream",
     "text": [
      "向量的一范数：\n",
      " 47.0\n",
      "向量的二范数：\n",
      " 20.223748416156685\n",
      "向量的无穷范数：\n",
      " 12.0\n"
     ]
    }
   ],
   "source": [
    "# 范数的计算\n",
    "arr17 = np.array([1,3,5,7,9,10,-12])\n",
    "# 一范数\n",
    "res1 = np.linalg.norm(arr17, ord = 1)\n",
    "print('向量的一范数：\\n',res1)\n",
    "# 二范数\n",
    "res2 = np.linalg.norm(arr17, ord = 2)\n",
    "print('向量的二范数：\\n',res2)\n",
    "# 无穷范数\n",
    "res3 = np.linalg.norm(arr17, ord = np.inf)\n",
    "print('向量的无穷范数：\\n',res3)"
   ]
  },
  {
   "cell_type": "code",
   "execution_count": 66,
   "metadata": {
    "ExecuteTime": {
     "end_time": "2019-10-03T15:02:25.701420Z",
     "start_time": "2019-10-03T15:02:25.688419Z"
    }
   },
   "outputs": [
    {
     "data": {
      "text/plain": [
       "array([ 0.47143516, -1.19097569,  1.43270697, -0.3126519 , -0.72058873,\n",
       "        0.88716294,  0.85958841, -0.6365235 ,  0.01569637, -2.24268495])"
      ]
     },
     "execution_count": 66,
     "metadata": {},
     "output_type": "execute_result"
    }
   ],
   "source": [
    "np.random.seed(1234)\n",
    "np.random.normal(loc = 0, scale = 1, size = 10)"
   ]
  },
  {
   "cell_type": "code",
   "execution_count": 60,
   "metadata": {
    "ExecuteTime": {
     "end_time": "2019-10-03T15:00:34.090996Z",
     "start_time": "2019-10-03T15:00:33.566968Z"
    }
   },
   "outputs": [
    {
     "data": {
      "text/plain": [
       "<matplotlib.axes._subplots.AxesSubplot at 0x156a506d30>"
      ]
     },
     "execution_count": 60,
     "metadata": {},
     "output_type": "execute_result"
    },
    {
     "data": {
      "text/plain": [
       "<matplotlib.axes._subplots.AxesSubplot at 0x156a506d30>"
      ]
     },
     "execution_count": 60,
     "metadata": {},
     "output_type": "execute_result"
    },
    {
     "data": {
      "text/plain": [
       "<matplotlib.axes._subplots.AxesSubplot at 0x156a506d30>"
      ]
     },
     "execution_count": 60,
     "metadata": {},
     "output_type": "execute_result"
    },
    {
     "data": {
      "text/plain": [
       "<matplotlib.axes._subplots.AxesSubplot at 0x156a506d30>"
      ]
     },
     "execution_count": 60,
     "metadata": {},
     "output_type": "execute_result"
    },
    {
     "data": {
      "text/plain": [
       "<matplotlib.legend.Legend at 0x156a55af98>"
      ]
     },
     "execution_count": 60,
     "metadata": {},
     "output_type": "execute_result"
    },
    {
     "data": {
      "image/png": "[encoded data removed]",
      "text/plain": [
       "<Figure size 432x288 with 1 Axes>"
      ]
     },
     "metadata": {},
     "output_type": "display_data"
    }
   ],
   "source": [
    "import seaborn as sns\n",
    "import matplotlib.pyplot as plt\n",
    "from scipy import stats\n",
    "\n",
    "# 生成各种正态分布随机数\n",
    "np.random.seed(1234)\n",
    "rn1 = np.random.normal(loc = 0, scale = 1, size = 1000)\n",
    "rn2 = np.random.normal(loc = 0, scale = 2, size = 1000)\n",
    "rn3 = np.random.normal(loc = 2, scale = 3, size = 1000)\n",
    "rn4 = np.random.normal(loc = 5, scale = 3, size = 1000)\n",
    "# 绘图\n",
    "plt.style.use('ggplot')\n",
    "sns.distplot(rn1, hist = False, kde = False, fit = stats.norm, \n",
    "             fit_kws = {'color':'black','label':'u=0,s=1','linestyle':'-'})\n",
    "sns.distplot(rn2, hist = False, kde = False, fit = stats.norm, \n",
    "             fit_kws = {'color':'red','label':'u=0,s=2','linestyle':'--'})\n",
    "sns.distplot(rn3, hist = False, kde = False, fit = stats.norm, \n",
    "             fit_kws = {'color':'blue','label':'u=2,s=3','linestyle':':'})\n",
    "sns.distplot(rn4, hist = False, kde = False, fit = stats.norm, \n",
    "             fit_kws = {'color':'purple','label':'u=5,s=3','linestyle':'-.'})\n",
    "# 呈现图例\n",
    "plt.legend()\n",
    "# 呈现图形\n",
    "plt.show()"
   ]
  },
  {
   "cell_type": "code",
   "execution_count": 59,
   "metadata": {
    "ExecuteTime": {
     "end_time": "2019-10-03T15:00:23.344378Z",
     "start_time": "2019-10-03T15:00:22.812346Z"
    }
   },
   "outputs": [
    {
     "data": {
      "text/plain": [
       "<matplotlib.axes._subplots.AxesSubplot at 0x1569490ba8>"
      ]
     },
     "execution_count": 59,
     "metadata": {},
     "output_type": "execute_result"
    },
    {
     "data": {
      "text/plain": [
       "<matplotlib.axes._subplots.AxesSubplot at 0x1569490ba8>"
      ]
     },
     "execution_count": 59,
     "metadata": {},
     "output_type": "execute_result"
    },
    {
     "data": {
      "text/plain": [
       "<matplotlib.axes._subplots.AxesSubplot at 0x1569490ba8>"
      ]
     },
     "execution_count": 59,
     "metadata": {},
     "output_type": "execute_result"
    },
    {
     "data": {
      "text/plain": [
       "<matplotlib.legend.Legend at 0x15695011d0>"
      ]
     },
     "execution_count": 59,
     "metadata": {},
     "output_type": "execute_result"
    },
    {
     "data": {
      "image/png": "[encoded data removed]",
      "text/plain": [
       "<Figure size 432x288 with 1 Axes>"
      ]
     },
     "metadata": {
      "needs_background": "light"
     },
     "output_type": "display_data"
    }
   ],
   "source": [
    "# 生成各种指数分布随机数\n",
    "np.random.seed(1234)\n",
    "re1 = np.random.exponential(scale = 0.5, size = 1000)\n",
    "re2 = np.random.exponential(scale = 1, size = 1000)\n",
    "re3 = np.random.exponential(scale = 1.5, size = 1000)\n",
    "# 绘图\n",
    "sns.distplot(re1, hist = False, kde = False, fit = stats.expon, \n",
    "             fit_kws = {'color':'black','label':'lambda=0.5','linestyle':'-'})\n",
    "sns.distplot(re2, hist = False, kde = False, fit = stats.expon, \n",
    "             fit_kws = {'color':'red','label':'lambda=1','linestyle':'--'})\n",
    "sns.distplot(re3, hist = False, kde = False, fit = stats.expon, \n",
    "             fit_kws = {'color':'blue','label':'lambda=1.5','linestyle':':'})\n",
    "# 呈现图例\n",
    "plt.legend()\n",
    "# 呈现图形\n",
    "plt.show()"
   ]
  },
  {
   "cell_type": "code",
   "execution_count": null,
   "metadata": {
    "collapsed": true
   },
   "outputs": [],
   "source": []
  }
 ],
 "metadata": {
  "kernelspec": {
   "display_name": "Python 3",
   "language": "python",
   "name": "python3"
  },
  "language_info": {
   "codemirror_mode": {
    "name": "ipython",
    "version": 3
   },
   "file_extension": ".py",
   "mimetype": "text/x-python",
   "name": "python",
   "nbconvert_exporter": "python",
   "pygments_lexer": "ipython3",
   "version": "3.7.3"
  },
  "toc": {
   "base_numbering": 1,
   "nav_menu": {},
   "number_sections": true,
   "sideBar": true,
   "skip_h1_title": false,
   "title_cell": "Table of Contents",
   "title_sidebar": "Contents",
   "toc_cell": false,
   "toc_position": {},
   "toc_section_display": true,
   "toc_window_display": false
  },
  "varInspector": {
   "cols": {
    "lenName": 16,
    "lenType": 16,
    "lenVar": 40
   },
   "kernels_config": {
    "python": {
     "delete_cmd_postfix": "",
     "delete_cmd_prefix": "del ",
     "library": "var_list.py",
     "varRefreshCmd": "print(var_dic_list())"
    },
    "r": {
     "delete_cmd_postfix": ") ",
     "delete_cmd_prefix": "rm(",
     "library": "var_list.r",
     "varRefreshCmd": "cat(var_dic_list()) "
    }
   },
   "types_to_exclude": [
    "module",
    "function",
    "builtin_function_or_method",
    "instance",
    "_Feature"
   ],
   "window_display": false
  }
 },
 "nbformat": 4,
 "nbformat_minor": 1
}
