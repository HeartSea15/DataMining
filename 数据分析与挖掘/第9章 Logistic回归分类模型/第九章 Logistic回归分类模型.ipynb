{
 "cells": [
  {
   "cell_type": "markdown",
   "metadata": {
    "ExecuteTime": {
     "end_time": "2019-12-29T15:42:20.908992Z",
     "start_time": "2019-12-29T15:42:20.889990Z"
    }
   },
   "source": [
    "线性回归模型的评估指标：\n",
    "\n",
    "    连续型的因变量评估 -- RMSE\n",
    "    离散型的因变量评估 -- 混淆矩阵、ROC曲线、K-S曲线\n",
    "\n",
    "PR曲线：\n",
    "\n",
    "    纵轴 -- 查准率P = TP/(TP+FP) = 真正例/(真正例+假正例) = 真正例/(预测正例总数)\n",
    "    横轴 -- 查全率R = TP/(TP+FN) = 真正例/(真正例+假反例) = 真正例/(实际正例总数)\n",
    "\n",
    "ROC曲线：\n",
    "\n",
    "    纵轴 -- 真正例率TPR = TP/(TP+FN) = 真正例/(真正例+假反例) = 真正例/(实际正例总数)\n",
    "    横轴 -- 假正例率FPR = FP/(TN+FP) = 假正例/(真反例+假正例) = 假正例/(实际反例总数)\n",
    "    \n",
    "    ROC曲线下的阴影面积AUC越大越好，一般0.8以上，模型就可以接受了。\n",
    "\n",
    "K-S曲线：\n",
    "\n",
    "    纵轴 -- TPR和FPR用作y轴，得到两条曲线\n",
    "    横轴 -- 模型计算的score值，从大到小排序，取出10%、20%、...90%所对应的分位数\n",
    "    \n",
    "    KS值越大越好，KS = TPR-FPR = 真正例率-假正例率,一般大于0.4，模型可以接受"
   ]
  },
  {
   "cell_type": "markdown",
   "metadata": {},
   "source": [
    "# K-S曲线\n",
    "1.按照模型计算的score值，从大到小排序\n",
    "\n",
    "2.取出10%、20%、...90%所对应的分位数，并以此作为分位数的阈值，计算TPR和FPR的值\n",
    "\n",
    "3.将10%、20%、...90%这样的分位点用作绘图的x轴，将TPR和FPR用作y轴，得到两条曲线。"
   ]
  },
  {
   "cell_type": "code",
   "execution_count": null,
   "metadata": {
    "ExecuteTime": {
     "end_time": "2019-12-29T15:42:20.915992Z",
     "start_time": "2019-12-29T15:42:20.890Z"
    }
   },
   "outputs": [],
   "source": [
    "# 导入第三方包\n",
    "import pandas as pd\n",
    "import numpy as np\n",
    "import matplotlib.pyplot as plt\n",
    "import warnings\n",
    "warnings.filterwarnings('ignore')\n",
    "%config ZMQInteractiveShell.ast_node_interactivity='all'   # nootbook使用"
   ]
  },
  {
   "cell_type": "code",
   "execution_count": null,
   "metadata": {
    "ExecuteTime": {
     "end_time": "2019-12-29T15:42:20.919992Z",
     "start_time": "2019-12-29T15:42:20.896Z"
    }
   },
   "outputs": [],
   "source": [
    "virtual_data = pd.read_excel(r'virtual_data.xlsx')\n",
    "virtual_data.head()\n",
    "# class为实际的分类"
   ]
  },
  {
   "cell_type": "code",
   "execution_count": null,
   "metadata": {
    "ExecuteTime": {
     "end_time": "2019-12-29T15:42:20.924991Z",
     "start_time": "2019-12-29T15:42:20.903Z"
    }
   },
   "outputs": [],
   "source": [
    "# 自定义绘制ks曲线的函数\n",
    "def plot_ks(y_test, y_score, positive_flag):\n",
    "    \n",
    "    \n",
    "    # 对y_test,y_score重新设置索引\n",
    "    y_test.index = np.arange(len(y_test))\n",
    "    y_score.index = np.arange(len(y_score))\n",
    "    \n",
    "    # 构建目标数据集\n",
    "    target_data = pd.DataFrame({'y_test':y_test, 'y_score':y_score})\n",
    "    \n",
    "    # 按y_score降序排列\n",
    "    target_data.sort_values(by = 'y_score', ascending = False, inplace = True)\n",
    "    \n",
    "    # 自定义分位点\n",
    "    cuts = np.arange(0.1,1,0.1)  # array([0.1, 0.2, 0.3, 0.4, 0.5, 0.6, 0.7, 0.8, 0.9])\n",
    "    \n",
    "    # 计算各分位点对应的Score值\n",
    "    index = len(target_data.y_score)*cuts \n",
    "    scores = target_data.y_score.iloc[index.astype('int')]\n",
    "    \n",
    "    # 根据不同的Score值，计算Sensitivity真正例率 和 Specificity真负利率\n",
    "    Sensitivity = []   # TPR\n",
    "    Specificity = []   # FPR = 1-Specificity\n",
    "    \n",
    "    for score in scores:\n",
    "        # 真正例率TPR = TP/(TP+FN) = 真正例/(真正例+假反例) = 真正例/(实际正例总数)\n",
    "        # 正例覆盖样本数量与实际正例样本量\n",
    "        positive_recall = target_data.loc[(target_data.y_test == positive_flag) \n",
    "                                          & (target_data.y_score>score),:].shape[0] # 正例覆盖样本数量\n",
    "        positive = sum(target_data.y_test == positive_flag)   # 实际正例样本量\n",
    "        \n",
    "        # 假正例率FPR = FP/(TN+FP) = 假正例/(真反例+假正例) = 假正例/(实际反例总数)\n",
    "        # 负例覆盖率specificity = 1 - FPR = 正确预测的负例数/实际负例数\n",
    "        # 负例覆盖样本数量与实际负例样本量\n",
    "        negative_recall = target_data.loc[(target_data.y_test != positive_flag) \n",
    "                                          & (target_data.y_score<=score),:].shape[0]\n",
    "        negative = sum(target_data.y_test != positive_flag)  # 实际负例样本量\n",
    "        \n",
    "        Sensitivity.append(positive_recall/positive)\n",
    "        Specificity.append(negative_recall/negative)\n",
    "        \n",
    "    # 构建绘图数据\n",
    "    plot_data = pd.DataFrame({'cuts':cuts,'y1':1-np.array(Specificity),'y2':np.array(Sensitivity), \n",
    "                              'ks':np.array(Sensitivity)-(1-np.array(Specificity))})\n",
    "    print(plot_data)\n",
    "    \n",
    "    # 以分位数为x轴，以Sensitivity和1-Specificity分别为y轴，画两条线\n",
    "    plt.plot([0]+cuts.tolist()+[1], [0]+plot_data.y1.tolist()+[1], label = '1-Specificity')\n",
    "    plt.plot([0]+cuts.tolist()+[1], [0]+plot_data.y2.tolist()+[1], label = 'Sensitivity')\n",
    "    \n",
    "    # 寻找Sensitivity和1-Specificity之差的最大值索引\n",
    "    max_ks_index = np.argmax(plot_data.ks)\n",
    "    # 添加参考线\n",
    "    plt.vlines(plot_data.cuts[max_ks_index],    # 横坐标\n",
    "               ymin = plot_data.y1[max_ks_index], \n",
    "               ymax = plot_data.y2[max_ks_index], \n",
    "               linestyles = '--')\n",
    "#     # 添加文本信息\n",
    "    plt.text(x = plot_data.cuts[max_ks_index]+0.01,\n",
    "             y = plot_data.y1[max_ks_index]+plot_data.ks[max_ks_index]/2,\n",
    "             s = 'KS= %.2f' %plot_data.ks[max_ks_index])\n",
    "    # 显示图例\n",
    "    plt.legend()\n",
    "    # 显示图形\n",
    "    plt.show()"
   ]
  },
  {
   "cell_type": "code",
   "execution_count": 59,
   "metadata": {
    "ExecuteTime": {
     "end_time": "2019-12-29T15:43:13.721130Z",
     "start_time": "2019-12-29T15:43:13.256032Z"
    }
   },
   "outputs": [
    {
     "name": "stdout",
     "output_type": "stream",
     "text": [
      "   cuts   y1   y2   ks\n",
      "0   0.1  0.0  0.2  0.2\n",
      "1   0.2  0.1  0.3  0.2\n",
      "2   0.3  0.2  0.4  0.2\n",
      "3   0.4  0.2  0.5  0.3\n",
      "4   0.5  0.4  0.6  0.2\n",
      "5   0.6  0.4  0.8  0.4\n",
      "6   0.7  0.6  0.8  0.2\n",
      "7   0.8  0.8  0.8  0.0\n",
      "8   0.9  0.9  0.9  0.0\n"
     ]
    },
    {
     "data": {
      "image/png": "[encoded data removed]",
      "text/plain": [
       "<Figure size 432x288 with 1 Axes>"
      ]
     },
     "metadata": {
      "needs_background": "light"
     },
     "output_type": "display_data"
    }
   ],
   "source": [
    "# 导入虚拟数据\n",
    "virtual_data = pd.read_excel(r'virtual_data.xlsx')\n",
    "# 应用自定义函数绘制k-s曲线\n",
    "plot_ks(y_test = virtual_data.Class, \n",
    "        y_score = virtual_data.Score,\n",
    "        positive_flag = 'P')    "
   ]
  },
  {
   "cell_type": "markdown",
   "metadata": {},
   "source": [
    "# Logistic回归分类模型的应用\n",
    "数据：手机设备手机的用户运动数据为例，判断用户所处的运动状态，是步行还是跑步。\n",
    "一共包含88588条记录，6个与运动相关的自变量，其中三个与运动的加速度有关，另三个与运动方向有关。"
   ]
  },
  {
   "cell_type": "markdown",
   "metadata": {},
   "source": [
    "## 模型的构建"
   ]
  },
  {
   "cell_type": "code",
   "execution_count": 48,
   "metadata": {
    "ExecuteTime": {
     "end_time": "2019-12-29T15:42:21.032998Z",
     "start_time": "2019-12-29T15:42:21.025999Z"
    }
   },
   "outputs": [],
   "source": [
    "# 导入第三方模块\n",
    "import pandas as pd\n",
    "import numpy as np\n",
    "from sklearn import linear_model\n",
    "from sklearn import model_selection"
   ]
  },
  {
   "cell_type": "code",
   "execution_count": 49,
   "metadata": {
    "ExecuteTime": {
     "end_time": "2019-12-29T15:42:21.571029Z",
     "start_time": "2019-12-29T15:42:21.038999Z"
    }
   },
   "outputs": [
    {
     "data": {
      "text/html": [
       "<div>\n",
       "<style scoped>\n",
       "    .dataframe tbody tr th:only-of-type {\n",
       "        vertical-align: middle;\n",
       "    }\n",
       "\n",
       "    .dataframe tbody tr th {\n",
       "        vertical-align: top;\n",
       "    }\n",
       "\n",
       "    .dataframe thead th {\n",
       "        text-align: right;\n",
       "    }\n",
       "</style>\n",
       "<table border=\"1\" class=\"dataframe\">\n",
       "  <thead>\n",
       "    <tr style=\"text-align: right;\">\n",
       "      <th></th>\n",
       "      <th>date</th>\n",
       "      <th>time</th>\n",
       "      <th>username</th>\n",
       "      <th>activity</th>\n",
       "      <th>acceleration_x</th>\n",
       "      <th>acceleration_y</th>\n",
       "      <th>acceleration_z</th>\n",
       "      <th>gyro_x</th>\n",
       "      <th>gyro_y</th>\n",
       "      <th>gyro_z</th>\n",
       "    </tr>\n",
       "  </thead>\n",
       "  <tbody>\n",
       "    <tr>\n",
       "      <th>0</th>\n",
       "      <td>2017/6/30</td>\n",
       "      <td>13:51:15:847724020</td>\n",
       "      <td>viktor</td>\n",
       "      <td>0</td>\n",
       "      <td>0.2650</td>\n",
       "      <td>-0.7814</td>\n",
       "      <td>-0.0076</td>\n",
       "      <td>-0.0590</td>\n",
       "      <td>0.0325</td>\n",
       "      <td>-2.9296</td>\n",
       "    </tr>\n",
       "    <tr>\n",
       "      <th>1</th>\n",
       "      <td>2017/6/30</td>\n",
       "      <td>13:51:16:246945023</td>\n",
       "      <td>viktor</td>\n",
       "      <td>0</td>\n",
       "      <td>0.6722</td>\n",
       "      <td>-1.1233</td>\n",
       "      <td>-0.2344</td>\n",
       "      <td>-0.1757</td>\n",
       "      <td>0.0208</td>\n",
       "      <td>0.1269</td>\n",
       "    </tr>\n",
       "    <tr>\n",
       "      <th>2</th>\n",
       "      <td>2017/6/30</td>\n",
       "      <td>13:51:16:446233987</td>\n",
       "      <td>viktor</td>\n",
       "      <td>0</td>\n",
       "      <td>0.4399</td>\n",
       "      <td>-1.4817</td>\n",
       "      <td>0.0722</td>\n",
       "      <td>-0.9105</td>\n",
       "      <td>0.1063</td>\n",
       "      <td>-2.4367</td>\n",
       "    </tr>\n",
       "    <tr>\n",
       "      <th>3</th>\n",
       "      <td>2017/6/30</td>\n",
       "      <td>13:51:16:646117985</td>\n",
       "      <td>viktor</td>\n",
       "      <td>0</td>\n",
       "      <td>0.3031</td>\n",
       "      <td>-0.8125</td>\n",
       "      <td>0.0888</td>\n",
       "      <td>0.1199</td>\n",
       "      <td>-0.4099</td>\n",
       "      <td>-2.9336</td>\n",
       "    </tr>\n",
       "    <tr>\n",
       "      <th>4</th>\n",
       "      <td>2017/6/30</td>\n",
       "      <td>13:51:16:846738994</td>\n",
       "      <td>viktor</td>\n",
       "      <td>0</td>\n",
       "      <td>0.4814</td>\n",
       "      <td>-0.9312</td>\n",
       "      <td>0.0359</td>\n",
       "      <td>0.0527</td>\n",
       "      <td>0.4379</td>\n",
       "      <td>2.4922</td>\n",
       "    </tr>\n",
       "  </tbody>\n",
       "</table>\n",
       "</div>"
      ],
      "text/plain": [
       "        date                time username  activity  acceleration_x  \\\n",
       "0  2017/6/30  13:51:15:847724020   viktor         0          0.2650   \n",
       "1  2017/6/30  13:51:16:246945023   viktor         0          0.6722   \n",
       "2  2017/6/30  13:51:16:446233987   viktor         0          0.4399   \n",
       "3  2017/6/30  13:51:16:646117985   viktor         0          0.3031   \n",
       "4  2017/6/30  13:51:16:846738994   viktor         0          0.4814   \n",
       "\n",
       "   acceleration_y  acceleration_z  gyro_x  gyro_y  gyro_z  \n",
       "0         -0.7814         -0.0076 -0.0590  0.0325 -2.9296  \n",
       "1         -1.1233         -0.2344 -0.1757  0.0208  0.1269  \n",
       "2         -1.4817          0.0722 -0.9105  0.1063 -2.4367  \n",
       "3         -0.8125          0.0888  0.1199 -0.4099 -2.9336  \n",
       "4         -0.9312          0.0359  0.0527  0.4379  2.4922  "
      ]
     },
     "execution_count": 49,
     "metadata": {},
     "output_type": "execute_result"
    }
   ],
   "source": [
    "# 读取数据\n",
    "sports = pd.read_csv(r'Run or Walk.csv')\n",
    "sports.head()"
   ]
  },
  {
   "cell_type": "code",
   "execution_count": 50,
   "metadata": {
    "ExecuteTime": {
     "end_time": "2019-12-29T15:42:22.128062Z",
     "start_time": "2019-12-29T15:42:21.577030Z"
    }
   },
   "outputs": [
    {
     "data": {
      "text/plain": [
       "LogisticRegression(C=1.0, class_weight=None, dual=False, fit_intercept=True,\n",
       "          intercept_scaling=1, max_iter=100, multi_class='warn',\n",
       "          n_jobs=None, penalty='l2', random_state=None, solver='warn',\n",
       "          tol=0.0001, verbose=0, warm_start=False)"
      ]
     },
     "execution_count": 50,
     "metadata": {},
     "output_type": "execute_result"
    },
    {
     "name": "stdout",
     "output_type": "stream",
     "text": [
      "[4.35613952] [[ 0.48533325  6.86221041 -2.44611637 -0.01344578 -0.1607943   0.13360777]]\n"
     ]
    }
   ],
   "source": [
    "# 提取出所有自变量名称\n",
    "predictors = sports.columns[4:]\n",
    "# 构建自变量矩阵\n",
    "X = sports.ix[:,predictors]\n",
    "# 提取y变量值\n",
    "y = sports.activity\n",
    "# 将数据集拆分为训练集和测试集\n",
    "X_train, X_test, y_train, y_test = model_selection.train_test_split(X, \n",
    "                                                                    y, \n",
    "                                                                    test_size = 0.25, \n",
    "                                                                    random_state = 1234)\n",
    "\n",
    "# 利用训练集建模\n",
    "sklearn_logistic = linear_model.LogisticRegression()\n",
    "sklearn_logistic.fit(X_train, y_train)\n",
    "# 返回模型的各个参数\n",
    "print(sklearn_logistic.intercept_, sklearn_logistic.coef_)"
   ]
  },
  {
   "cell_type": "markdown",
   "metadata": {},
   "source": [
    "第一个数值是截距项，后面6个数值是各自变量的系数值。"
   ]
  },
  {
   "cell_type": "code",
   "execution_count": 51,
   "metadata": {
    "ExecuteTime": {
     "end_time": "2019-12-29T15:42:22.150063Z",
     "start_time": "2019-12-29T15:42:22.134062Z"
    }
   },
   "outputs": [
    {
     "data": {
      "text/plain": [
       "1.632316219955379"
      ]
     },
     "execution_count": 51,
     "metadata": {},
     "output_type": "execute_result"
    },
    {
     "data": {
      "text/plain": [
       "953.3670674911841"
      ]
     },
     "execution_count": 51,
     "metadata": {},
     "output_type": "execute_result"
    }
   ],
   "source": [
    "# 解释模型回归系数的解释\n",
    "# 发生比率，表示当其他因素不变的情况下，x轴方向的加速度每增加一个单位，回事跑步发生比变化1.62倍。\n",
    "np.exp(0.49)   # 发生比率\n",
    "np.exp(6.86)"
   ]
  },
  {
   "cell_type": "markdown",
   "metadata": {},
   "source": [
    "## 模型的预测"
   ]
  },
  {
   "cell_type": "code",
   "execution_count": 52,
   "metadata": {
    "ExecuteTime": {
     "end_time": "2019-12-29T15:42:22.186066Z",
     "start_time": "2019-12-29T15:42:22.156063Z"
    }
   },
   "outputs": [
    {
     "data": {
      "text/plain": [
       "array([1, 0, 0, ..., 0, 0, 1], dtype=int64)"
      ]
     },
     "execution_count": 52,
     "metadata": {},
     "output_type": "execute_result"
    },
    {
     "data": {
      "text/plain": [
       "0    12121\n",
       "1    10026\n",
       "dtype: int64"
      ]
     },
     "execution_count": 52,
     "metadata": {},
     "output_type": "execute_result"
    }
   ],
   "source": [
    "# 模型预测\n",
    "sklearn_predict = sklearn_logistic.predict(X_test)\n",
    "sklearn_predict\n",
    "# 预测结果统计\n",
    "pd.Series(sklearn_predict).value_counts()"
   ]
  },
  {
   "cell_type": "markdown",
   "metadata": {},
   "source": [
    "判断步行状态的样本有12121个，跑步的状态有10026个，单看这两个数据无法判断预测的好坏，需要进行模型评估。"
   ]
  },
  {
   "cell_type": "markdown",
   "metadata": {},
   "source": [
    "## 模型的评估\n",
    "混淆矩阵、roc曲线、ks曲线"
   ]
  },
  {
   "cell_type": "markdown",
   "metadata": {},
   "source": [
    "### 混淆矩阵"
   ]
  },
  {
   "cell_type": "code",
   "execution_count": 68,
   "metadata": {
    "ExecuteTime": {
     "end_time": "2019-12-30T02:00:30.777650Z",
     "start_time": "2019-12-30T02:00:30.310623Z"
    }
   },
   "outputs": [
    {
     "data": {
      "text/plain": [
       "array([[9971, 1120],\n",
       "       [2150, 8906]], dtype=int64)"
      ]
     },
     "execution_count": 68,
     "metadata": {},
     "output_type": "execute_result"
    }
   ],
   "source": [
    "# 导入第三方模块\n",
    "from sklearn import metrics\n",
    "\n",
    "# 混淆矩阵\n",
    "# 行，实际的运动状态\n",
    "# 列，模型预测的运动状态\n",
    "cm = metrics.confusion_matrix(y_test, sklearn_predict, labels = [0,1])\n",
    "cm"
   ]
  },
  {
   "cell_type": "code",
   "execution_count": 54,
   "metadata": {
    "ExecuteTime": {
     "end_time": "2019-12-29T15:42:22.703095Z",
     "start_time": "2019-12-29T15:42:22.645092Z"
    }
   },
   "outputs": [
    {
     "name": "stdout",
     "output_type": "stream",
     "text": [
      "模型准确率为85.24%:\n",
      "正例覆盖率（查全率）为80.55%\n",
      "负例覆盖率为89.90%\n"
     ]
    }
   ],
   "source": [
    "Accuracy = metrics.scorer.accuracy_score(y_test, sklearn_predict)\n",
    "Sensitivity = metrics.scorer.recall_score(y_test, sklearn_predict)\n",
    "Specificity = metrics.scorer.recall_score(y_test, sklearn_predict, pos_label=0)\n",
    "print('模型准确率为%.2f%%:' %(Accuracy*100))\n",
    "print('正例覆盖率（查全率）为%.2f%%' %(Sensitivity*100))\n",
    "print('负例覆盖率为%.2f%%' %(Specificity*100))"
   ]
  },
  {
   "cell_type": "markdown",
   "metadata": {},
   "source": [
    "模型的整体预测准确率达到85.24%, 正确预测到正例在实际正例中占比超过80%，正确预测到负例在实际负例中占比更是接近90%，说明模型更好的拟合了负例的特性。"
   ]
  },
  {
   "cell_type": "code",
   "execution_count": 55,
   "metadata": {
    "ExecuteTime": {
     "end_time": "2019-12-29T15:42:23.153121Z",
     "start_time": "2019-12-29T15:42:22.709096Z"
    }
   },
   "outputs": [
    {
     "data": {
      "text/plain": [
       "<matplotlib.axes._subplots.AxesSubplot at 0x81f4af2400>"
      ]
     },
     "execution_count": 55,
     "metadata": {},
     "output_type": "execute_result"
    },
    {
     "data": {
      "image/png": "[encoded data removed]",
      "text/plain": [
       "<Figure size 432x288 with 2 Axes>"
      ]
     },
     "metadata": {
      "needs_background": "light"
     },
     "output_type": "display_data"
    }
   ],
   "source": [
    "# 混淆矩阵的可视化\n",
    "# 导入第三方模块\n",
    "import seaborn as sns\n",
    "import matplotlib.pyplot as plt\n",
    "# 绘制热力图\n",
    "sns.heatmap(cm, annot = True, fmt = '.2e',cmap = 'GnBu')\n",
    "# 图形显示\n",
    "plt.show()"
   ]
  },
  {
   "cell_type": "markdown",
   "metadata": {},
   "source": [
    "### roc曲线"
   ]
  },
  {
   "cell_type": "code",
   "execution_count": 56,
   "metadata": {
    "ExecuteTime": {
     "end_time": "2019-12-29T15:42:23.176123Z",
     "start_time": "2019-12-29T15:42:23.161122Z"
    }
   },
   "outputs": [
    {
     "data": {
      "text/plain": [
       "array([[0.46048548, 0.53951452],\n",
       "       [0.94650097, 0.05349903],\n",
       "       [0.91585343, 0.08414657],\n",
       "       ...,\n",
       "       [0.93273396, 0.06726604],\n",
       "       [0.80920741, 0.19079259],\n",
       "       [0.05483416, 0.94516584]])"
      ]
     },
     "execution_count": 56,
     "metadata": {},
     "output_type": "execute_result"
    }
   ],
   "source": [
    "sklearn_logistic.predict_proba(X_test)"
   ]
  },
  {
   "cell_type": "code",
   "execution_count": 57,
   "metadata": {
    "ExecuteTime": {
     "end_time": "2019-12-29T15:42:24.410194Z",
     "start_time": "2019-12-29T15:42:23.182123Z"
    }
   },
   "outputs": [
    {
     "data": {
      "text/plain": [
       "[<matplotlib.collections.PolyCollection at 0x81ef4b3278>]"
      ]
     },
     "execution_count": 57,
     "metadata": {},
     "output_type": "execute_result"
    },
    {
     "data": {
      "text/plain": [
       "[<matplotlib.lines.Line2D at 0x81f4bde240>]"
      ]
     },
     "execution_count": 57,
     "metadata": {},
     "output_type": "execute_result"
    },
    {
     "data": {
      "text/plain": [
       "[<matplotlib.lines.Line2D at 0x81eb5fea58>]"
      ]
     },
     "execution_count": 57,
     "metadata": {},
     "output_type": "execute_result"
    },
    {
     "data": {
      "text/plain": [
       "Text(0.5, 0.3, 'ROC curve (area = 0.93)')"
      ]
     },
     "execution_count": 57,
     "metadata": {},
     "output_type": "execute_result"
    },
    {
     "data": {
      "text/plain": [
       "Text(0.5, 0, '1-Specificity')"
      ]
     },
     "execution_count": 57,
     "metadata": {},
     "output_type": "execute_result"
    },
    {
     "data": {
      "text/plain": [
       "Text(0, 0.5, 'Sensitivity')"
      ]
     },
     "execution_count": 57,
     "metadata": {},
     "output_type": "execute_result"
    },
    {
     "data": {
      "image/png": "[encoded data removed]",
      "text/plain": [
       "<Figure size 432x288 with 1 Axes>"
      ]
     },
     "metadata": {
      "needs_background": "light"
     },
     "output_type": "display_data"
    }
   ],
   "source": [
    "# y得分为模型预测正例的概率\n",
    "y_score = sklearn_logistic.predict_proba(X_test)[:,1]\n",
    "\n",
    "# 计算不同阈值下，fpr和tpr的组合值，其中fpr表示1-Specificity，tpr表示Sensitivity\n",
    "fpr,tpr,threshold = metrics.roc_curve(y_test, y_score)\n",
    "\n",
    "# 计算AUC的值\n",
    "roc_auc = metrics.auc(fpr,tpr)\n",
    "\n",
    "# 绘制面积图\n",
    "plt.stackplot(fpr, tpr, color='steelblue', alpha = 0.5, edgecolor = 'black')\n",
    "# 添加边际线\n",
    "plt.plot(fpr, tpr, color='black', lw = 1)\n",
    "# 添加对角线\n",
    "plt.plot([0,1],[0,1], color = 'red', linestyle = '--')\n",
    "# 添加文本信息\n",
    "plt.text(0.5,0.3,'ROC curve (area = %0.2f)' % roc_auc)\n",
    "# 添加x轴与y轴标签\n",
    "plt.xlabel('1-Specificity')\n",
    "plt.ylabel('Sensitivity')\n",
    "# 显示图形\n",
    "plt.show()"
   ]
  },
  {
   "cell_type": "markdown",
   "metadata": {},
   "source": [
    "auc面积高达0.93，远高于评估标准0.8，可以认为模型是合理的，较好的刻画了数据特征。"
   ]
  },
  {
   "cell_type": "markdown",
   "metadata": {},
   "source": [
    "### K-S曲线"
   ]
  },
  {
   "cell_type": "code",
   "execution_count": 58,
   "metadata": {
    "ExecuteTime": {
     "end_time": "2019-12-29T15:42:24.462199Z",
     "start_time": "2019-12-29T15:42:24.432198Z"
    }
   },
   "outputs": [
    {
     "data": {
      "text/plain": [
       "array([0.53951452, 0.05349903, 0.08414657, ..., 0.06726604, 0.19079259,\n",
       "       0.94516584])"
      ]
     },
     "execution_count": 58,
     "metadata": {},
     "output_type": "execute_result"
    }
   ],
   "source": [
    "y_score"
   ]
  },
  {
   "cell_type": "code",
   "execution_count": 61,
   "metadata": {
    "ExecuteTime": {
     "end_time": "2019-12-29T15:44:39.103020Z",
     "start_time": "2019-12-29T15:44:38.406980Z"
    }
   },
   "outputs": [
    {
     "name": "stdout",
     "output_type": "stream",
     "text": [
      "   cuts        y1        y2        ks\n",
      "0   0.1  0.000000  0.200253  0.200253\n",
      "1   0.2  0.000811  0.399783  0.398971\n",
      "2   0.3  0.002525  0.598408  0.595884\n",
      "3   0.4  0.047336  0.753708  0.706373\n",
      "4   0.5  0.160040  0.840991  0.680952\n",
      "5   0.6  0.296457  0.904486  0.608030\n",
      "6   0.7  0.447931  0.952786  0.504855\n",
      "7   0.8  0.618069  0.982453  0.364384\n",
      "8   0.9  0.805608  0.994664  0.189055\n"
     ]
    },
    {
     "data": {
      "image/png": "[encoded data removed]",
      "text/plain": [
       "<Figure size 432x288 with 1 Axes>"
      ]
     },
     "metadata": {
      "needs_background": "light"
     },
     "output_type": "display_data"
    }
   ],
   "source": [
    "# 调用自定义函数，绘制K-S曲线\n",
    "plot_ks(y_test = y_test, y_score = pd.Series(y_score), positive_flag = 1)"
   ]
  },
  {
   "cell_type": "markdown",
   "metadata": {},
   "source": [
    "# 另一种实现logistic回归模型的python工具，即statsmodels"
   ]
  },
  {
   "cell_type": "code",
   "execution_count": 15,
   "metadata": {
    "ExecuteTime": {
     "end_time": "2019-10-08T08:36:24.597244Z",
     "start_time": "2019-10-08T08:36:23.358172Z"
    }
   },
   "outputs": [
    {
     "name": "stdout",
     "output_type": "stream",
     "text": [
      "Optimization terminated successfully.\n",
      "         Current function value: 0.324875\n",
      "         Iterations 8\n"
     ]
    },
    {
     "data": {
      "text/plain": [
       "const             4.388537\n",
       "acceleration_x    0.489617\n",
       "acceleration_y    6.906590\n",
       "acceleration_z   -2.459638\n",
       "gyro_x           -0.014715\n",
       "gyro_y           -0.161164\n",
       "gyro_z            0.134655\n",
       "dtype: float64"
      ]
     },
     "execution_count": 15,
     "metadata": {},
     "output_type": "execute_result"
    }
   ],
   "source": [
    "# -----------------------第一步 建模 ----------------------- #\n",
    "# 导入第三方模块\n",
    "import statsmodels.api as sm\n",
    "\n",
    "# 读取数据\n",
    "sports = pd.read_csv(r'Run or Walk.csv')\n",
    "# 提取出所有自变量名称\n",
    "predictors = sports.columns[4:]\n",
    "# 构建自变量矩阵\n",
    "X = sports.ix[:,predictors]\n",
    "# 提取y变量值\n",
    "y = sports.activity\n",
    "\n",
    "# 将数据集拆分为训练集和测试集\n",
    "X_train, X_test, y_train, y_test = model_selection.train_test_split(X, \n",
    "                                                                    y, \n",
    "                                                                    test_size = 0.25, \n",
    "                                                                    random_state = 1234)\n",
    "# 为训练集和测试集的X矩阵添加常数列1\n",
    "X_train2 = sm.add_constant(X_train)\n",
    "X_test2 = sm.add_constant(X_test)\n",
    "# 拟合Logistic模型\n",
    "sm_logistic = sm.formula.Logit(y_train, X_train2).fit()\n",
    "# 返回模型的参数\n",
    "sm_logistic.params"
   ]
  },
  {
   "cell_type": "code",
   "execution_count": 16,
   "metadata": {
    "ExecuteTime": {
     "end_time": "2019-10-08T08:36:24.895260Z",
     "start_time": "2019-10-08T08:36:24.608242Z"
    }
   },
   "outputs": [
    {
     "data": {
      "text/plain": [
       "array([[9967, 1124],\n",
       "       [2149, 8907]], dtype=int64)"
      ]
     },
     "execution_count": 16,
     "metadata": {},
     "output_type": "execute_result"
    }
   ],
   "source": [
    "# -----------------------第二步 预测构建混淆矩阵 ----------------------- #\n",
    "# 模型在测试集上的预测\n",
    "sm_y_probability = sm_logistic.predict(X_test2)  # 返回的是样本被预测为正例的概率值\n",
    "# 根据概率值，将观测进行分类，以0.5作为阈值\n",
    "sm_pred_y = np.where(sm_y_probability >= 0.5, 1, 0)\n",
    "# 混淆矩阵\n",
    "cm = metrics.confusion_matrix(y_test, sm_pred_y, labels = [0,1])\n",
    "cm"
   ]
  },
  {
   "cell_type": "code",
   "execution_count": 17,
   "metadata": {
    "ExecuteTime": {
     "end_time": "2019-10-08T08:36:25.350286Z",
     "start_time": "2019-10-08T08:36:24.903260Z"
    }
   },
   "outputs": [
    {
     "data": {
      "text/plain": [
       "[<matplotlib.collections.PolyCollection at 0x347bfa8ac8>]"
      ]
     },
     "execution_count": 17,
     "metadata": {},
     "output_type": "execute_result"
    },
    {
     "data": {
      "text/plain": [
       "[<matplotlib.lines.Line2D at 0x347857cfd0>]"
      ]
     },
     "execution_count": 17,
     "metadata": {},
     "output_type": "execute_result"
    },
    {
     "data": {
      "text/plain": [
       "[<matplotlib.lines.Line2D at 0x347805a1d0>]"
      ]
     },
     "execution_count": 17,
     "metadata": {},
     "output_type": "execute_result"
    },
    {
     "data": {
      "text/plain": [
       "Text(0.5, 0.3, 'ROC curve (area = 0.93)')"
      ]
     },
     "execution_count": 17,
     "metadata": {},
     "output_type": "execute_result"
    },
    {
     "data": {
      "text/plain": [
       "Text(0.5, 0, '1-Specificity')"
      ]
     },
     "execution_count": 17,
     "metadata": {},
     "output_type": "execute_result"
    },
    {
     "data": {
      "text/plain": [
       "Text(0, 0.5, 'Sensitivity')"
      ]
     },
     "execution_count": 17,
     "metadata": {},
     "output_type": "execute_result"
    },
    {
     "data": {
      "image/png": "[encoded data removed]",
      "text/plain": [
       "<Figure size 432x288 with 1 Axes>"
      ]
     },
     "metadata": {
      "needs_background": "light"
     },
     "output_type": "display_data"
    }
   ],
   "source": [
    "# -----------------------第三步 绘制ROC曲线 ----------------------- #\n",
    "# 计算真正率和假正率 \n",
    "fpr,tpr,threshold = metrics.roc_curve(y_test, sm_y_probability)\n",
    "# 计算auc的值  \n",
    "roc_auc = metrics.auc(fpr,tpr)\n",
    "# 绘制面积图\n",
    "plt.stackplot(fpr, tpr, color='steelblue', alpha = 0.5, edgecolor = 'black')\n",
    "# 添加边际线\n",
    "plt.plot(fpr, tpr, color='black', lw = 1)\n",
    "# 添加对角线\n",
    "plt.plot([0,1],[0,1], color = 'red', linestyle = '--')\n",
    "# 添加文本信息\n",
    "plt.text(0.5,0.3,'ROC curve (area = %0.2f)' % roc_auc)\n",
    "# 添加x轴与y轴标签\n",
    "plt.xlabel('1-Specificity')\n",
    "plt.ylabel('Sensitivity')\n",
    "# 显示图形\n",
    "plt.show()"
   ]
  },
  {
   "cell_type": "code",
   "execution_count": 19,
   "metadata": {
    "ExecuteTime": {
     "end_time": "2019-10-08T08:37:43.875806Z",
     "start_time": "2019-10-08T08:37:43.238769Z"
    }
   },
   "outputs": [
    {
     "data": {
      "text/plain": [
       "0        0.540706\n",
       "1        0.052846\n",
       "2        0.083316\n",
       "3        0.023588\n",
       "4        0.999483\n",
       "5        0.999163\n",
       "6        0.780273\n",
       "7        0.052599\n",
       "8        0.660093\n",
       "9        0.076744\n",
       "10       0.213604\n",
       "11       0.322070\n",
       "12       0.017269\n",
       "13       0.540915\n",
       "14       0.042584\n",
       "15       0.307959\n",
       "16       0.072363\n",
       "17       0.547856\n",
       "18       0.157903\n",
       "19       0.075273\n",
       "20       0.322436\n",
       "21       0.443753\n",
       "22       0.994543\n",
       "23       0.999991\n",
       "24       0.999965\n",
       "25       0.804142\n",
       "26       0.053588\n",
       "27       0.027503\n",
       "28       0.310221\n",
       "29       0.113485\n",
       "           ...   \n",
       "22117    0.245841\n",
       "22118    0.131663\n",
       "22119    0.424343\n",
       "22120    0.166108\n",
       "22121    0.673588\n",
       "22122    0.031024\n",
       "22123    0.381876\n",
       "22124    0.050368\n",
       "22125    0.074004\n",
       "22126    0.565206\n",
       "22127    0.999742\n",
       "22128    0.999886\n",
       "22129    0.117050\n",
       "22130    0.999846\n",
       "22131    0.999964\n",
       "22132    0.175933\n",
       "22133    0.804513\n",
       "22134    0.748659\n",
       "22135    0.069335\n",
       "22136    0.994458\n",
       "22137    0.028144\n",
       "22138    0.999153\n",
       "22139    0.898212\n",
       "22140    0.639182\n",
       "22141    0.005261\n",
       "22142    0.999899\n",
       "22143    0.997302\n",
       "22144    0.066412\n",
       "22145    0.189987\n",
       "22146    0.946379\n",
       "Length: 22147, dtype: float64"
      ]
     },
     "execution_count": 19,
     "metadata": {},
     "output_type": "execute_result"
    },
    {
     "name": "stdout",
     "output_type": "stream",
     "text": [
      "   cuts        y1        y2        ks\n",
      "0   0.1  0.000000  0.200253  0.200253\n",
      "1   0.2  0.000811  0.399783  0.398971\n",
      "2   0.3  0.002525  0.598408  0.595884\n",
      "3   0.4  0.047336  0.753708  0.706373\n",
      "4   0.5  0.160040  0.840991  0.680952\n",
      "5   0.6  0.296547  0.904396  0.607849\n",
      "6   0.7  0.447841  0.952876  0.505036\n",
      "7   0.8  0.618069  0.982453  0.364384\n",
      "8   0.9  0.805608  0.994664  0.189055\n"
     ]
    },
    {
     "data": {
      "image/png": "[encoded data removed]",
      "text/plain": [
       "<Figure size 432x288 with 1 Axes>"
      ]
     },
     "metadata": {
      "needs_background": "light"
     },
     "output_type": "display_data"
    }
   ],
   "source": [
    "# -----------------------第四步 绘制K-S曲线 ----------------------- #\n",
    "# 调用自定义函数，绘制K-S曲线\n",
    "# 重设置索引的目的是plot_ks函数要求两参数是相同的行索引\n",
    "sm_y_probability.index = np.arange(len(sm_y_probability))    \n",
    "sm_y_probability\n",
    "plot_ks(y_test = y_test, y_score = sm_y_probability, positive_flag = 1)"
   ]
  }
 ],
 "metadata": {
  "anaconda-cloud": {},
  "kernelspec": {
   "display_name": "Python 3",
   "language": "python",
   "name": "python3"
  },
  "language_info": {
   "codemirror_mode": {
    "name": "ipython",
    "version": 3
   },
   "file_extension": ".py",
   "mimetype": "text/x-python",
   "name": "python",
   "nbconvert_exporter": "python",
   "pygments_lexer": "ipython3",
   "version": "3.7.3"
  },
  "toc": {
   "base_numbering": 1,
   "nav_menu": {},
   "number_sections": true,
   "sideBar": true,
   "skip_h1_title": false,
   "title_cell": "Table of Contents",
   "title_sidebar": "Contents",
   "toc_cell": false,
   "toc_position": {},
   "toc_section_display": true,
   "toc_window_display": true
  },
  "varInspector": {
   "cols": {
    "lenName": 16,
    "lenType": 16,
    "lenVar": 40
   },
   "kernels_config": {
    "python": {
     "delete_cmd_postfix": "",
     "delete_cmd_prefix": "del ",
     "library": "var_list.py",
     "varRefreshCmd": "print(var_dic_list())"
    },
    "r": {
     "delete_cmd_postfix": ") ",
     "delete_cmd_prefix": "rm(",
     "library": "var_list.r",
     "varRefreshCmd": "cat(var_dic_list()) "
    }
   },
   "types_to_exclude": [
    "module",
    "function",
    "builtin_function_or_method",
    "instance",
    "_Feature"
   ],
   "window_display": false
  }
 },
 "nbformat": 4,
 "nbformat_minor": 1
}
