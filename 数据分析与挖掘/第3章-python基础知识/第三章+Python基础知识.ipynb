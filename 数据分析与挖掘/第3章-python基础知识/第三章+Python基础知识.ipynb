{
 "cells": [
  {
   "cell_type": "code",
   "execution_count": 11,
   "metadata": {
    "ExecuteTime": {
     "end_time": "2019-10-03T05:46:24.571314Z",
     "start_time": "2019-10-03T05:46:24.544312Z"
    }
   },
   "outputs": [
    {
     "name": "stdout",
     "output_type": "stream",
     "text": [
      "张三\n",
      "江苏\n",
      "['身高178', '体重72']\n",
      "体重72\n"
     ]
    }
   ],
   "source": [
    "list1 = ['张三','男',33,'江苏','硕士','已婚',['身高178','体重72']]\n",
    "# 取出第一个元素\n",
    "print(list1[0])\n",
    "# 取出第四个元素\n",
    "print(list1[3])\n",
    "# 取出最后一个元素\n",
    "print(list1[6])\n",
    "# 取出“体重72”这个值\n",
    "print(list1[6][1])"
   ]
  },
  {
   "cell_type": "code",
   "execution_count": 12,
   "metadata": {
    "ExecuteTime": {
     "end_time": "2019-10-03T05:46:24.607316Z",
     "start_time": "2019-10-03T05:46:24.584314Z"
    }
   },
   "outputs": [
    {
     "name": "stdout",
     "output_type": "stream",
     "text": [
      "['身高178', '体重72']\n",
      "身高178\n",
      "硕士\n"
     ]
    }
   ],
   "source": [
    "# 取出最后一个元素\n",
    "print(list1[-1])\n",
    "# 取出“身高178”这个值\n",
    "print(list1[-1][0])\n",
    "# 取出倒数第三个元素\n",
    "print(list1[-3])"
   ]
  },
  {
   "cell_type": "code",
   "execution_count": 13,
   "metadata": {
    "ExecuteTime": {
     "end_time": "2019-10-03T05:46:24.673319Z",
     "start_time": "2019-10-03T05:46:24.637319Z"
    }
   },
   "outputs": [
    {
     "name": "stdout",
     "output_type": "stream",
     "text": [
      "['浙江', '上海', '山东', '山西']\n",
      "['安徽', '上海', '山西']\n",
      "['山西', '湖南']\n"
     ]
    }
   ],
   "source": [
    "list2 = ['江苏','安徽','浙江','上海','山东','山西','湖南','湖北']\n",
    "# 取出“浙江”至“山西”四个元素\n",
    "print(list2[2:6])\n",
    "# 取出“安徽”、“上海”、“山西”三个元素\n",
    "print(list2[1:6:2])\n",
    "# 取出最后三个元素\n",
    "print(list2[-3:-1])"
   ]
  },
  {
   "cell_type": "code",
   "execution_count": 14,
   "metadata": {
    "ExecuteTime": {
     "end_time": "2019-10-03T05:46:24.724324Z",
     "start_time": "2019-10-03T05:46:24.701321Z"
    }
   },
   "outputs": [
    {
     "name": "stdout",
     "output_type": "stream",
     "text": [
      "['江苏', '安徽', '浙江']\n",
      "['山西', '湖南', '湖北']\n",
      "['江苏', '安徽', '浙江', '上海', '山东', '山西', '湖南', '湖北']\n",
      "['江苏', '浙江', '山东', '湖南']\n"
     ]
    }
   ],
   "source": [
    "# 取出头三个元素\n",
    "print(list2[:3])\n",
    "# 取出最后三个元素\n",
    "print(list2[-3:])\n",
    "# 取出所有元素\n",
    "print(list2[::])\n",
    "# 取出奇数位置的元素\n",
    "print(list2[::2])"
   ]
  },
  {
   "cell_type": "code",
   "execution_count": 15,
   "metadata": {
    "ExecuteTime": {
     "end_time": "2019-10-03T05:46:24.751322Z",
     "start_time": "2019-10-03T05:46:24.739322Z"
    }
   },
   "outputs": [
    {
     "name": "stdout",
     "output_type": "stream",
     "text": [
      "[1, 10, 100, 1000, 10000, 2]\n"
     ]
    }
   ],
   "source": [
    "list3 = [1,10,100,1000,10000]\n",
    "# 在列表末尾添加数字2\n",
    "list3.append(2)\n",
    "print(list3)"
   ]
  },
  {
   "cell_type": "code",
   "execution_count": 16,
   "metadata": {
    "ExecuteTime": {
     "end_time": "2019-10-03T05:46:24.763323Z",
     "start_time": "2019-10-03T05:46:24.756322Z"
    }
   },
   "outputs": [
    {
     "name": "stdout",
     "output_type": "stream",
     "text": [
      "[1, 10, 100, 1000, 10000, 2, 20, 200, 2000, 20000]\n"
     ]
    }
   ],
   "source": [
    "# 在列表末尾添加20,200,2000,20000四个值\n",
    "list3.extend([20,200,2000,20000])\n",
    "print(list3)"
   ]
  },
  {
   "cell_type": "code",
   "execution_count": 17,
   "metadata": {
    "ExecuteTime": {
     "end_time": "2019-10-03T05:46:24.778324Z",
     "start_time": "2019-10-03T05:46:24.770324Z"
    }
   },
   "outputs": [
    {
     "name": "stdout",
     "output_type": "stream",
     "text": [
      "[1, 10, 11, 100, 1000, 10000, 2, 20, 200, 2000, 20000]\n",
      "[1, 10, 11, 100, 1000, 10000, ['a', 'b', 'c'], 2, 20, 200, 2000, 20000]\n"
     ]
    }
   ],
   "source": [
    "# 在数字10后面增加11这个数字\n",
    "list3.insert(2,11)\n",
    "print(list3)\n",
    "# 在10000后面插入['a','b','c']\n",
    "list3.insert(6,['a','b','c'])\n",
    "print(list3)"
   ]
  },
  {
   "cell_type": "code",
   "execution_count": 18,
   "metadata": {
    "ExecuteTime": {
     "end_time": "2019-10-03T05:46:24.796325Z",
     "start_time": "2019-10-03T05:46:24.784325Z"
    }
   },
   "outputs": [
    {
     "name": "stdout",
     "output_type": "stream",
     "text": [
      "[1, 10, 11, 100, 1000, 10000, ['a', 'b', 'c'], 2, 20, 200, 2000]\n",
      "[1, 10, 100, 1000, 10000, ['a', 'b', 'c'], 2, 20, 200, 2000]\n"
     ]
    }
   ],
   "source": [
    "# 删除list3中20000这个元素\n",
    "list3.pop()\n",
    "print(list3)\n",
    "# 删除list3中11这个元素\n",
    "list3.pop(2)\n",
    "print(list3)"
   ]
  },
  {
   "cell_type": "code",
   "execution_count": 19,
   "metadata": {
    "ExecuteTime": {
     "end_time": "2019-10-03T05:46:24.810325Z",
     "start_time": "2019-10-03T05:46:24.801326Z"
    }
   },
   "outputs": [
    {
     "name": "stdout",
     "output_type": "stream",
     "text": [
      "[1, 10, 100, 1000, 10000, 2, 20, 200, 2000]\n"
     ]
    }
   ],
   "source": [
    "# 删除list3中的['a', 'b', 'c']\n",
    "list3.remove(['a', 'b', 'c'])\n",
    "print(list3)"
   ]
  },
  {
   "cell_type": "code",
   "execution_count": 20,
   "metadata": {
    "ExecuteTime": {
     "end_time": "2019-10-03T05:46:24.822327Z",
     "start_time": "2019-10-03T05:46:24.815326Z"
    }
   },
   "outputs": [
    {
     "name": "stdout",
     "output_type": "stream",
     "text": [
      "[]\n"
     ]
    }
   ],
   "source": [
    "# 删除list3中所有元素\n",
    "list3.clear()\n",
    "print(list3)"
   ]
  },
  {
   "cell_type": "code",
   "execution_count": 21,
   "metadata": {
    "ExecuteTime": {
     "end_time": "2019-10-03T05:46:24.837327Z",
     "start_time": "2019-10-03T05:46:24.826327Z"
    }
   },
   "outputs": [
    {
     "name": "stdout",
     "output_type": "stream",
     "text": [
      "冰响\n",
      "['洗衣机', '冰箱', '电视机', '电脑', '空调']\n"
     ]
    }
   ],
   "source": [
    "list4 = ['洗衣机','冰响','电视机','电脑','空调']\n",
    "# 将“冰响”修改为“冰箱”\n",
    "print(list4[1])\n",
    "list4[1] = '冰箱'\n",
    "print(list4)"
   ]
  },
  {
   "cell_type": "code",
   "execution_count": 22,
   "metadata": {
    "ExecuteTime": {
     "end_time": "2019-10-03T05:46:24.860329Z",
     "start_time": "2019-10-03T05:46:24.847327Z"
    }
   },
   "outputs": [
    {
     "name": "stdout",
     "output_type": "stream",
     "text": [
      "4\n",
      "5\n",
      "[3, 6, 3, 4, 4, 7, 3, 10, 6, 4, 11, 9, 3, 7]\n",
      "[11, 10, 9, 7, 7, 6, 6, 4, 4, 4, 3, 3, 3, 3]\n"
     ]
    }
   ],
   "source": [
    "list5 = [7,3,9,11,4,6,10,3,7,4,4,3,6,3]\n",
    "# 计算列表中元素3的个数\n",
    "print(list5.count(3))\n",
    "# 找出元素6所在的位置\n",
    "print(list5.index(6))\n",
    "# 列表元素的颠倒\n",
    "list5.reverse()\n",
    "print(list5)\n",
    "# 列表元素的降序\n",
    "list5.sort(reverse=True)\n",
    "print(list5)"
   ]
  },
  {
   "cell_type": "code",
   "execution_count": 23,
   "metadata": {
    "ExecuteTime": {
     "end_time": "2019-10-03T05:46:24.875330Z",
     "start_time": "2019-10-03T05:46:24.866329Z"
    }
   },
   "outputs": [
    {
     "name": "stdout",
     "output_type": "stream",
     "text": [
      "3\n",
      "5\n"
     ]
    }
   ],
   "source": [
    "t = ('a','d','z','a','d','c','a')\n",
    "# 计数\n",
    "print(t.count('a'))\n",
    "# 元素位置\n",
    "print(t.index('c'))"
   ]
  },
  {
   "cell_type": "code",
   "execution_count": 24,
   "metadata": {
    "ExecuteTime": {
     "end_time": "2019-10-03T05:46:24.894331Z",
     "start_time": "2019-10-03T05:46:24.881330Z"
    }
   },
   "outputs": [
    {
     "name": "stdout",
     "output_type": "stream",
     "text": [
      "{'姓名': '张三', '年龄': 33, '性别': '男', '子女': {'儿子': '张四', '女儿': '张美'}, '兴趣': ['踢球', '游泳', '唱歌']}\n",
      "33\n",
      "张四\n",
      "游泳\n"
     ]
    }
   ],
   "source": [
    "dict1 = {'姓名':'张三','年龄':33,'性别':'男','子女':{'儿子':'张四','女儿':'张美'},'兴趣':['踢球','游泳','唱歌']}\n",
    "# 打印字典\n",
    "print(dict1)\n",
    "# 取出年龄\n",
    "print(dict1['年龄'])\n",
    "# 取出子女中的儿子姓名\n",
    "print(dict1['子女']['儿子'])\n",
    "# 取出兴趣中的游泳\n",
    "print(dict1['兴趣'][1])"
   ]
  },
  {
   "cell_type": "code",
   "execution_count": 27,
   "metadata": {
    "ExecuteTime": {
     "end_time": "2019-10-03T05:46:50.226788Z",
     "start_time": "2019-10-03T05:46:50.217788Z"
    }
   },
   "outputs": [
    {
     "name": "stdout",
     "output_type": "stream",
     "text": [
      "{'姓名': '张三', '年龄': 33, '性别': '男', '子女': {'儿子': '张四', '女儿': '张美'}, '兴趣': ['踢球', '游泳', '唱歌'], '户籍': '合肥', '学历': '硕士', '身高': 178}\n",
      "{'姓名': '张三', '年龄': 33, '性别': '男', '子女': {'儿子': '张四', '女儿': '张美'}, '兴趣': ['踢球', '游泳', '唱歌'], '户籍': '合肥', '学历': '硕士', '身高': 178}\n",
      "{'姓名': '张三', '年龄': 33, '性别': '男', '子女': {'儿子': '张四', '女儿': '张美'}, '兴趣': ['踢球', '游泳', '唱歌'], '户籍': '合肥', '学历': '硕士', '身高': 178}\n"
     ]
    }
   ],
   "source": [
    "# 往字典dict1中增加户籍信息\n",
    "dict1.setdefault('户籍','合肥')\n",
    "print(dict1)\n",
    "# 增加学历信息\n",
    "dict1.update({'学历':'硕士'})\n",
    "print(dict1)\n",
    "# 增加身高信息\n",
    "dict1['身高'] = 178\n",
    "print(dict1)"
   ]
  },
  {
   "cell_type": "code",
   "execution_count": 51,
   "metadata": {
    "ExecuteTime": {
     "end_time": "2019-09-27T16:04:23.755396Z",
     "start_time": "2019-09-27T16:04:23.744395Z"
    }
   },
   "outputs": [
    {
     "name": "stdout",
     "output_type": "stream",
     "text": [
      "{'姓名': '张三', '年龄': 33, '性别': '男', '子女': {'儿子': '张四', '女儿': '张美'}, '兴趣': ['踢球', '游泳', '唱歌'], '学历': '硕士', '身高': 178}\n",
      "{'姓名': '张三', '年龄': 33, '性别': '男', '子女': {'儿子': '张四'}, '兴趣': ['踢球', '游泳', '唱歌'], '学历': '硕士', '身高': 178}\n",
      "{'姓名': '张三', '年龄': 33, '性别': '男', '子女': {'儿子': '张四'}, '兴趣': ['踢球', '游泳', '唱歌'], '学历': '硕士'}\n"
     ]
    }
   ],
   "source": [
    "# 删除字典中的户籍信息\n",
    "dict1.pop('户籍')\n",
    "print(dict1)\n",
    "# 删除字典中女儿的姓名\n",
    "dict1['子女'].pop('女儿')\n",
    "print(dict1)\n",
    "# 删除字典中的任意一个元素\n",
    "dict1.popitem()\n",
    "print(dict1)\n",
    "# 清空字典元素\n",
    "# dict1.clear()\n",
    "# print(dict1)"
   ]
  },
  {
   "cell_type": "code",
   "execution_count": 52,
   "metadata": {
    "ExecuteTime": {
     "end_time": "2019-09-27T16:04:31.013827Z",
     "start_time": "2019-09-27T16:04:31.003826Z"
    }
   },
   "outputs": [
    {
     "name": "stdout",
     "output_type": "stream",
     "text": [
      "{'姓名': '张三', '年龄': 33, '性别': '男', '子女': {'儿子': '张四'}, '兴趣': ['踢球', '游泳', '唱歌'], '学历': '本科'}\n",
      "{'姓名': '张三', '年龄': 35, '性别': '男', '子女': {'儿子': '张四'}, '兴趣': ['踢球', '游泳', '唱歌'], '学历': '本科'}\n",
      "{'姓名': '张三', '年龄': 35, '性别': '男', '子女': {'儿子': '张四'}, '兴趣': ['踢球', '游泳', '跳舞'], '学历': '本科'}\n"
     ]
    }
   ],
   "source": [
    "# 将学历改为本科\n",
    "dict1.update({'学历':'本科'})\n",
    "print(dict1)\n",
    "# 将年龄改为35\n",
    "dict1['年龄'] = 35\n",
    "print(dict1)\n",
    "# 将兴趣中的唱歌改为跳舞\n",
    "dict1['兴趣'][2] = '跳舞'\n",
    "print(dict1)"
   ]
  },
  {
   "cell_type": "code",
   "execution_count": null,
   "metadata": {},
   "outputs": [],
   "source": [
    "dict2 = {'电影':['三傻大闹宝莱坞','大话西游之大圣娶亲','疯狂动物城'],\n",
    "         '导演':['拉吉库马尔·希拉尼','刘镇伟','拜伦·霍华德 '],\n",
    "         '评分':[9.1,9.2,9.2]}\n",
    "\n",
    "# 取出键'评分'所对应的值\n",
    "print(dict2.get('评分'))\n",
    "# 取出字典中的所有键\n",
    "print(dict2.keys())\n",
    "# 取出字典中的所有值\n",
    "print(dict2.values())\n",
    "# 取出字典中的所有键值对\n",
    "print(dict2.items())"
   ]
  },
  {
   "cell_type": "code",
   "execution_count": null,
   "metadata": {},
   "outputs": [],
   "source": [
    "# 返回绝对值\n",
    "x = -3\n",
    "if x >= 0:\n",
    "    print(x)\n",
    "else:\n",
    "    print(-1*x)"
   ]
  },
  {
   "cell_type": "code",
   "execution_count": null,
   "metadata": {},
   "outputs": [],
   "source": [
    "# 返回成绩对应的等级\n",
    "score = 68\n",
    "if score < 60:\n",
    "    print('不及格')\n",
    "elif score < 70:\n",
    "    print('合格')\n",
    "elif score < 80:\n",
    "    print('良好')\n",
    "else:\n",
    "    print('优秀')"
   ]
  },
  {
   "cell_type": "code",
   "execution_count": null,
   "metadata": {},
   "outputs": [],
   "source": [
    "# 将列表中的每个元素作平方加1处理\n",
    "list6 = [1,5,2,8,10,13,17,4,6]\n",
    "\n",
    "result = []\n",
    "for i in list6:\n",
    "    y = i ** 2 + 1\n",
    "    result.append(y)\n",
    "print(result)"
   ]
  },
  {
   "cell_type": "code",
   "execution_count": null,
   "metadata": {},
   "outputs": [],
   "source": [
    "# 计算1到100之间的偶数和\n",
    "s1_100 = 0\n",
    "for i in range(1,101):\n",
    "    if i % 2 == 0:\n",
    "        s1_100 = s1_100 + i\n",
    "    else:\n",
    "        pass\n",
    "print('1到100之间的偶数和为%s'%s1_100)"
   ]
  },
  {
   "cell_type": "code",
   "execution_count": null,
   "metadata": {},
   "outputs": [],
   "source": [
    "# 对列表中的偶数作三次方减10的处理\n",
    "list7 = [3,1,18,13,22,17,23,14,19,28,16]\n",
    "result = [i ** 3 - 10 for i in list7 if i % 2 == 0]\n",
    "print(result)"
   ]
  },
  {
   "cell_type": "code",
   "execution_count": null,
   "metadata": {},
   "outputs": [],
   "source": [
    "# 使用for循环登录某手机银行APP\n",
    "for i in range(1,6):\n",
    "    user = input('请输入用户名：')\n",
    "    password = int(input('请输入密码：'))\n",
    "    if (user == 'test') & (password == 123):\n",
    "        print('登录成功！')\n",
    "        break\n",
    "    else:\n",
    "        if i < 5:\n",
    "            print('错误！您今日还剩%d次输入机会。' %(5-i))\n",
    "        else:\n",
    "            print('请24小时后再尝试登录！')"
   ]
  },
  {
   "cell_type": "code",
   "execution_count": null,
   "metadata": {},
   "outputs": [],
   "source": [
    "# 使用while循环登录某邮箱账号\n",
    "while True:\n",
    "    user = input('请输入用户名：')\n",
    "    password = int(input('请输入密码：'))\n",
    "    if (user == 'test') & (password == 123):\n",
    "        print('登录成功！')\n",
    "        break\n",
    "    else:\n",
    "        print('您输入的用户名或密码错误！')"
   ]
  },
  {
   "cell_type": "code",
   "execution_count": null,
   "metadata": {},
   "outputs": [],
   "source": [
    "print('dag%.2f' %2.123)"
   ]
  },
  {
   "cell_type": "code",
   "execution_count": null,
   "metadata": {},
   "outputs": [],
   "source": [
    "# 单引号构造字符串\n",
    "string1 = '\"commentTime\":\"2018-01-26 08:59:30\",\"content\":\"包装良心！馅料新鲜！还会回购\"'\n",
    "# 双引号构造字符串\n",
    "string2 = \"ymd:'2017-01-01',bWendu:'5℃',yWendu:'-3℃',tianqi:'霾~晴',fengxiang:'南风',aqiInfo:'严重污染'\"\n",
    "# 三引号构造字符串\n",
    "string3 = ''''nickName':\"美美\",'content':\"环境不错，服务态度超好，就是有点小贵\",'createTimestring':\"2017-09-30\"'''\n",
    "string4 = '''据了解，持续降雪造成安徽部分地区农房倒损、种植养殖业大棚损毁，\n",
    "其中合肥、马鞍山、铜陵3市倒塌农房8间、紧急转移安置8人。'''\n",
    "print(string1)\n",
    "print(string2)\n",
    "print(string3)\n",
    "print(string4)"
   ]
  },
  {
   "cell_type": "code",
   "execution_count": 1,
   "metadata": {
    "ExecuteTime": {
     "end_time": "2019-10-03T02:13:25.250771Z",
     "start_time": "2019-10-03T02:13:25.230767Z"
    }
   },
   "outputs": [
    {
     "name": "stdout",
     "output_type": "stream",
     "text": [
      "19890101\n",
      "136****5678\n",
      "['12345', 'qq.com']\n",
      "P-y-t-h-o-n\n",
      "今天星期日\n",
      "今天星期日  \n",
      "  今天星期日\n",
      "2\n",
      "4\n",
      "4\n",
      "False\n",
      "True\n"
     ]
    }
   ],
   "source": [
    "# 获取身份证号码中的出生日期\n",
    "print('123456198901017890'[6:14])\n",
    "\n",
    "# 将手机号中的中间四位替换为四颗星\n",
    "tel = '13612345678'\n",
    "print(tel.replace(tel[3:7],'****'))\n",
    "\n",
    "# 将邮箱按@符分隔开\n",
    "print('12345@qq.com'.split('@'))\n",
    "\n",
    "# 将Python的每个字母用减号连接\n",
    "print('-'.join('Python'))\n",
    "\n",
    "# 删除\"  今天星期日  \"的首尾空白\n",
    "print(\"  今天星期日  \".strip())\n",
    "\n",
    "# 删除\"  今天星期日  \"的左边空白\n",
    "print(\"  今天星期日  \".lstrip())\n",
    "\n",
    "# 删除\"  今天星期日  \"的右边空白\n",
    "print(\"  今天星期日  \".rstrip())\n",
    "\n",
    "# 计算子串“中国”在字符串中的个数\n",
    "string5 = '中国方案引领世界前行，展现了中国应势而为、勇于担当的大国引领作用！'\n",
    "print(string5.count('中国'))\n",
    "\n",
    "# 查询\"Python\"单词所在的位置\n",
    "string6 = '我是一名Python用户，Python给我的工作带来了很多便捷。'\n",
    "print(string6.index('Python'))\n",
    "print(string6.find('Python'))\n",
    "\n",
    "# 字符串是否以“2018年”开头\n",
    "string7 = '2017年匆匆走过，迎来崭新的2018年'\n",
    "print(string7.startswith('2018年'))\n",
    "\n",
    "# 字符串是否以“2018年”年结尾\n",
    "print(string7.endswith('2018年'))"
   ]
  },
  {
   "cell_type": "code",
   "execution_count": 16,
   "metadata": {
    "ExecuteTime": {
     "end_time": "2019-10-03T04:21:47.888113Z",
     "start_time": "2019-10-03T04:21:47.872111Z"
    },
    "scrolled": true
   },
   "outputs": [
    {
     "name": "stdout",
     "output_type": "stream",
     "text": [
      "['晴', '阴~小雨', '小雨~中雨', '中雨~小雨']\n",
      "['Together', 'discovered', 'only', 'to', 'competition', 'Our', 'celebration', 'of']\n",
      "据悉这次发运的台蒸汽冷凝罐属于国际热核聚变实验堆项目的核二级压力设备先后完成了压力试验真空试验氦气检漏试验千斤顶试验吊耳载荷试验叠装试验等验收试验\n",
      "['2室2厅 ', ' 101.62平 ', ' 低区/7层 ', ' 朝南 ', ' 上海未来 ', ' 浦东 ', ' 金杨 ', ' 2005年建']\n",
      "['2室2厅', '101.62平', '低区/7层', '朝南', '上海未来', '浦东', '金杨', '2005年建']\n"
     ]
    }
   ],
   "source": [
    "# 导入第三方包\n",
    "import re\n",
    "# 取出出字符中所有的天气状态\n",
    "string8 = '''{ymd:'2018-01-01',tianqi:'晴',aqiInfo:'轻度污染'},\n",
    "             {ymd:'2018-01-02',tianqi:'阴~小雨',aqiInfo:'优'},\n",
    "             {ymd:'2018-01-03',tianqi:'小雨~中雨',aqiInfo:'优'},\n",
    "             {ymd:'2018-01-04',tianqi:'中雨~小雨',aqiInfo:'优'}'''\n",
    "print(re.findall(\"tianqi:'(.*?)'\", string8))  # 加括号是为了分组，且仅返回组中的内容\n",
    "\n",
    "# 取出所有含o字母的单词\n",
    "string9  = 'Together, we discovered that a free market only thrives when there are rules to ensure competition and fair play, Our celebration of initiative and enterprise'\n",
    "print(re.findall('\\w*o\\w*',string9, flags = re.I))\n",
    "\n",
    "# 将标点符号、数字和字母删除\n",
    "string10 = '据悉，这次发运的4台蒸汽冷凝罐属于国际热核聚变实验堆（ITER）项目的核二级压力设备，先后完成了压力试验、真空试验、氦气检漏试验、千斤顶试验、吊耳载荷试验、叠装试验等验收试验。'\n",
    "print(re.sub('[，。、a-zA-Z0-9（）]','',string10))\n",
    "\n",
    "# 将每一部分的内容分割开\n",
    "string11 = '2室2厅 | 101.62平 | 低区/7层 | 朝南 \\n 上海未来 - 浦东 - 金杨 - 2005年建'\n",
    "split = re.split('[-\\|\\n]', string11)\n",
    "print(split)\n",
    "split_strip = [i.strip() for i in split]\n",
    "print(split_strip)"
   ]
  },
  {
   "cell_type": "code",
   "execution_count": 19,
   "metadata": {
    "ExecuteTime": {
     "end_time": "2019-10-03T04:24:55.617918Z",
     "start_time": "2019-10-03T04:24:55.606916Z"
    }
   },
   "outputs": [
    {
     "name": "stdout",
     "output_type": "stream",
     "text": [
      "{'B': 5, 'C': 3, 'D': 1, 'A': 4}\n"
     ]
    }
   ],
   "source": [
    "# 统计列表中每个元素的频次\n",
    "list6 = ['A','A','B','A','A','B','C','B','C','B','B','D','C']\n",
    "set(list6)\n",
    "\n",
    "# 构建空字典，用于频次统计数据的存储\n",
    "dict3 = {}\n",
    "# 循环计算\n",
    "for i in set(list6):\n",
    "    dict3[i] = list6.count(i)\n",
    "print(dict3)"
   ]
  },
  {
   "cell_type": "code",
   "execution_count": 32,
   "metadata": {
    "ExecuteTime": {
     "end_time": "2019-10-03T04:33:15.762704Z",
     "start_time": "2019-10-03T04:33:15.750704Z"
    }
   },
   "outputs": [
    {
     "name": "stdout",
     "output_type": "stream",
     "text": [
      "[('B', 5), ('C', 3), ('D', 1), ('A', 4)]\n",
      "[('A', 4), ('B', 5), ('C', 3), ('D', 1)]\n",
      "[('B', 5), ('A', 4), ('C', 3), ('D', 1)]\n"
     ]
    }
   ],
   "source": [
    "# 取出字典中的键值对\n",
    "key_value = list(dict3.items())\n",
    "print(key_value)\n",
    "\n",
    "# 列表排序\n",
    "key_value.sort()\n",
    "print(key_value)\n",
    "\n",
    "# 按频次高低排序\n",
    "key_value.sort(key = lambda x : x[1], reverse=True)\n",
    "print(key_value)"
   ]
  },
  {
   "cell_type": "code",
   "execution_count": 33,
   "metadata": {
    "ExecuteTime": {
     "end_time": "2019-10-03T04:33:51.031734Z",
     "start_time": "2019-10-03T04:33:38.351004Z"
    }
   },
   "outputs": [
    {
     "name": "stdout",
     "output_type": "stream",
     "text": [
      "请在10到20之间猜一个数字: 12\n",
      "不好意思，你猜的的数偏小了！请在12到20之间猜一个数！\n",
      "请在12到20之间猜一个数字: 19\n",
      "恭喜你猜对了！\n",
      "游戏结束！\n"
     ]
    }
   ],
   "source": [
    "# 猜数字\n",
    "def game(min,max):\n",
    "    import random\n",
    "    number = random.randint(min,max)  # 随机生成一个需要猜的数字\n",
    "    while True:\n",
    "        guess = float(input('请在%d到%d之间猜一个数字: ' %(min, max)))\n",
    "\n",
    "        if guess < number:\n",
    "            min = guess\n",
    "            print('不好意思，你猜的的数偏小了！请在%d到%d之间猜一个数！' %(min,max))\n",
    "        elif guess > number:\n",
    "            max = guess\n",
    "            print('不好意思，你猜的的数偏大了！请在%d到%d之间猜一个数！' %(min,max))\n",
    "        else:\n",
    "            print('恭喜你猜对了！')\n",
    "            print('游戏结束！')\n",
    "            break\n",
    "\n",
    "# 调用函数\n",
    "game(10,20)"
   ]
  },
  {
   "cell_type": "code",
   "execution_count": 34,
   "metadata": {
    "ExecuteTime": {
     "end_time": "2019-10-03T04:39:30.003245Z",
     "start_time": "2019-10-03T04:39:29.988243Z"
    }
   },
   "outputs": [
    {
     "ename": "TypeError",
     "evalue": "game() missing 1 required positional argument: 'max'",
     "output_type": "error",
     "traceback": [
      "\u001b[1;31m---------------------------------------------------------------------------\u001b[0m",
      "\u001b[1;31mTypeError\u001b[0m                                 Traceback (most recent call last)",
      "\u001b[1;32m<ipython-input-34-321a4c925fa7>\u001b[0m in \u001b[0;36m<module>\u001b[1;34m\u001b[0m\n\u001b[0;32m      1\u001b[0m \u001b[1;31m# 缺少位置参数值的传递\u001b[0m\u001b[1;33m\u001b[0m\u001b[1;33m\u001b[0m\u001b[1;33m\u001b[0m\u001b[0m\n\u001b[1;32m----> 2\u001b[1;33m \u001b[0mgame\u001b[0m\u001b[1;33m(\u001b[0m\u001b[0mmin\u001b[0m \u001b[1;33m=\u001b[0m \u001b[1;36m10\u001b[0m\u001b[1;33m)\u001b[0m\u001b[1;33m\u001b[0m\u001b[1;33m\u001b[0m\u001b[0m\n\u001b[0m",
      "\u001b[1;31mTypeError\u001b[0m: game() missing 1 required positional argument: 'max'"
     ]
    }
   ],
   "source": [
    "# 缺少位置参数值的传递\n",
    "game(min = 10)"
   ]
  },
  {
   "cell_type": "code",
   "execution_count": 35,
   "metadata": {
    "ExecuteTime": {
     "end_time": "2019-10-03T04:39:33.952472Z",
     "start_time": "2019-10-03T04:39:33.939471Z"
    }
   },
   "outputs": [
    {
     "name": "stdout",
     "output_type": "stream",
     "text": [
      "1到200的2次方和为2686700！\n",
      "1到200的3次方和为404010000！\n"
     ]
    }
   ],
   "source": [
    "# 计算1到n的平方和\n",
    "def square_sum(n, p = 2):\n",
    "    result = sum([i ** p for i in range(1,n+1)])\n",
    "    return(n,p,result)\n",
    "\n",
    "print('1到%d的%d次方和为%d！' %square_sum(200))\n",
    "print('1到%d的%d次方和为%d！' %square_sum(200,3))"
   ]
  },
  {
   "cell_type": "code",
   "execution_count": 36,
   "metadata": {
    "ExecuteTime": {
     "end_time": "2019-10-03T04:41:25.278880Z",
     "start_time": "2019-10-03T04:41:25.269879Z"
    }
   },
   "outputs": [
    {
     "name": "stdout",
     "output_type": "stream",
     "text": [
      "10加13的和为23！\n"
     ]
    }
   ],
   "source": [
    "# 两个数的求和\n",
    "def add(a,b):\n",
    "    s = sum([a,b])    \n",
    "    return(a,b,s)\n",
    "\n",
    "print('%d加%d的和为%d！' %add(10,13))"
   ]
  },
  {
   "cell_type": "code",
   "execution_count": 37,
   "metadata": {
    "ExecuteTime": {
     "end_time": "2019-10-03T04:42:00.740921Z",
     "start_time": "2019-10-03T04:42:00.728920Z"
    }
   },
   "outputs": [
    {
     "name": "stdout",
     "output_type": "stream",
     "text": [
      "(10, 13, 7, 8, 2)\n",
      "和为40!\n",
      "(7, 10, 23, 44, 65, 12, 17)\n",
      "和为178!\n"
     ]
    }
   ],
   "source": [
    "# 任意个数的数据求和\n",
    "def adds(*args):  # 该类型的参数将输入的实参进行了捆绑，并组装到元祖中\n",
    "    print(args)     \n",
    "    s = sum(args)    \n",
    "    return(s)\n",
    "\n",
    "print('和为%d!' %adds(10,13,7,8,2))\n",
    "print('和为%d!' %adds(7,10,23,44,65,12,17))"
   ]
  },
  {
   "cell_type": "code",
   "execution_count": 40,
   "metadata": {
    "ExecuteTime": {
     "end_time": "2019-10-03T04:50:44.535069Z",
     "start_time": "2019-10-03T04:50:44.515067Z"
    }
   },
   "outputs": [
    {
     "name": "stdout",
     "output_type": "stream",
     "text": [
      "{'nickname': '月亮', 'gender': '女', 'edu': '硕士', 'income': 15000, 'add': '上海市浦东新区', 'interest': ['游泳', '唱歌', '看电影']}\n"
     ]
    },
    {
     "data": {
      "text/plain": [
       "{'tel': 13612345678,\n",
       " 'birthday': '1990-01-01',\n",
       " 'nickname': '月亮',\n",
       " 'gender': '女',\n",
       " 'edu': '硕士',\n",
       " 'income': 15000,\n",
       " 'add': '上海市浦东新区',\n",
       " 'interest': ['游泳', '唱歌', '看电影']}"
      ]
     },
     "execution_count": 40,
     "metadata": {},
     "output_type": "execute_result"
    }
   ],
   "source": [
    "# 关键字参数\n",
    "def info_collection(tel, birthday, **kwargs):\n",
    "    print(kwargs)\n",
    "    user_info = {}   # 构造空字典，用于存储用户信息\n",
    "    user_info['tel'] = tel\n",
    "    user_info['birthday'] = birthday\n",
    "    user_info.update(kwargs)\n",
    "    # 用户信息返回\n",
    "    return(user_info)\n",
    "\n",
    "# 调用函数    \n",
    "info_collection(13612345678,'1990-01-01',nickname='月亮',gender = '女',\n",
    "                edu = '硕士',income = 15000,add = '上海市浦东新区',interest = ['游泳','唱歌','看电影'])"
   ]
  },
  {
   "cell_type": "code",
   "execution_count": 1,
   "metadata": {
    "ExecuteTime": {
     "end_time": "2019-10-03T05:25:21.419609Z",
     "start_time": "2019-10-03T05:24:52.100921Z"
    }
   },
   "outputs": [],
   "source": [
    "# 导入第三方包\n",
    "import requests\n",
    "import time\n",
    "import random\n",
    "import pandas as pd\n",
    "import re\n",
    "\n",
    "# 生成请求头\n",
    "headers = {\n",
    "'Accept':'*/*',\n",
    "'Accept-Encoding':'gzip, deflate',\n",
    "'Accept-Language':'zh-CN,zh;q=0.9',\n",
    "'Connection':'keep-alive',\n",
    "'Cookie':'widget_dz_id=54511; widget_dz_cityValues=,; timeerror=1; defaultCityID=54511; defaultCityName=%u5317%u4EAC; Hm_lvt_a3f2879f6b3620a363bec646b7a8bcdd=1516245199; Hm_lpvt_a3f2879f6b3620a363bec646b7a8bcdd=1516245199; addFavorite=clicked',\n",
    "'User-Agent':'Mozilla/5.0 (Windows NT 6.1; WOW64) AppleWebKit/537.36 (KHTML, like Gecko) Chrome/63.0.3236.0 Safari/537.36'\n",
    "}\n",
    "\n",
    "# 生成所有需要抓取的链接\n",
    "urls = []\n",
    "for year in range(2011,2018):\n",
    "    for month in range(1,2):\n",
    "        if year <= 2016:\n",
    "            urls.append('http://tianqi.2345.com/t/wea_history/js/58362_%s%s.js' %(year,month))\n",
    "        else:\n",
    "            if month<10:\n",
    "                urls.append('http://tianqi.2345.com/t/wea_history/js/%s0%s/58362_%s0%s.js' %(year,month,year,month))\n",
    "            else:\n",
    "                urls.append('http://tianqi.2345.com/t/wea_history/js/%s%s/58362_%s%s.js' %(year,month,year,month))\n",
    "urls\n",
    "\n",
    "# 循环并通过正则匹配获取相关数据\n",
    "info = []\n",
    "for url in urls:\n",
    "    seconds = random.randint(3,6)\n",
    "    response = requests.get(url, headers = headers).text\n",
    "    ymd = re.findall(\"ymd:'(.*?)',\",response)\n",
    "    high = re.findall(\"bWendu:'(.*?)℃',\",response)\n",
    "    low = re.findall(\"yWendu:'(.*?)℃',\",response)\n",
    "    tianqi = re.findall(\"tianqi:'(.*?)',\",response)\n",
    "    fengxiang = re.findall(\"fengxiang:'(.*?)',\",response)\n",
    "    fengli = re.findall(\",fengli:'(.*?)'\",response)\n",
    "    aqi = re.findall(\"aqi:'(.*?)',\",response)\n",
    "    aqiInfo = re.findall(\"aqiInfo:'(.*?)',\",response)\n",
    "    aqiLevel = re.findall(\",aqiLevel:'(.*?)'\",response)\n",
    "    \n",
    "# 由于2011~2015没有空气质量相关的数据，故需要分开处理\n",
    "    if len(aqi) == 0:\n",
    "        aqi = None\n",
    "        aqiInfo = None\n",
    "        aqiLevel = None\n",
    "        info.append(pd.DataFrame({'ymd':ymd,'high':high,'low':low,'tianqi':tianqi,'fengxiang':fengxiang,'fengli':fengli,'aqi':aqi,'aqiInfo':aqiInfo,'aqiLevel':aqiLevel}))\n",
    "    else:\n",
    "        info.append(pd.DataFrame({'ymd':ymd,'high':high,'low':low,'tianqi':tianqi,'fengxiang':fengxiang,'fengli':fengli,'aqi':aqi,'aqiInfo':aqiInfo,'aqiLevel':aqiLevel}))\n",
    "    time.sleep(seconds)\n",
    "\n",
    "# 生成数据表\n",
    "weather = pd.concat(info)\n",
    "# 数据导出\n",
    "weather.to_csv('weather.csv',index = False)"
   ]
  },
  {
   "cell_type": "code",
   "execution_count": 2,
   "metadata": {
    "ExecuteTime": {
     "end_time": "2019-10-03T05:26:17.105814Z",
     "start_time": "2019-10-03T05:26:17.082812Z"
    }
   },
   "outputs": [
    {
     "data": {
      "text/plain": [
       "['http://tianqi.2345.com/t/wea_history/js/58362_20111.js',\n",
       " 'http://tianqi.2345.com/t/wea_history/js/58362_20121.js',\n",
       " 'http://tianqi.2345.com/t/wea_history/js/58362_20131.js',\n",
       " 'http://tianqi.2345.com/t/wea_history/js/58362_20141.js',\n",
       " 'http://tianqi.2345.com/t/wea_history/js/58362_20151.js',\n",
       " 'http://tianqi.2345.com/t/wea_history/js/58362_20161.js',\n",
       " 'http://tianqi.2345.com/t/wea_history/js/201701/58362_201701.js']"
      ]
     },
     "execution_count": 2,
     "metadata": {},
     "output_type": "execute_result"
    }
   ],
   "source": [
    "urls"
   ]
  },
  {
   "cell_type": "code",
   "execution_count": 4,
   "metadata": {
    "ExecuteTime": {
     "end_time": "2019-10-03T05:27:23.272622Z",
     "start_time": "2019-10-03T05:27:23.263621Z"
    }
   },
   "outputs": [
    {
     "data": {
      "text/plain": [
       "3"
      ]
     },
     "execution_count": 4,
     "metadata": {},
     "output_type": "execute_result"
    }
   ],
   "source": [
    "random.randint(3,6)"
   ]
  },
  {
   "cell_type": "code",
   "execution_count": 7,
   "metadata": {
    "ExecuteTime": {
     "end_time": "2019-10-03T05:28:58.871125Z",
     "start_time": "2019-10-03T05:28:58.642111Z"
    }
   },
   "outputs": [
    {
     "data": {
      "text/plain": [
       "\"var weather_str={city:'上海',tqInfo:[{ymd:'2017-01-01',bWendu:'16℃',yWendu:'10℃',tianqi:'晴~多云',fengxiang:'东南风',fengli:'1-2级',aqi:'54',aqiInfo:'良',aqiLevel:'2'},{ymd:'2017-01-02',bWendu:'15℃',yWendu:'8℃',tianqi:'多云',fengxiang:'北风',fengli:'1-2级',aqi:'92',aqiInfo:'良',aqiLevel:'2'},{ymd:'2017-01-03',bWendu:'14℃',yWendu:'9℃',tianqi:'晴~多云',fengxiang:'东风',fengli:'1-2级',aqi:'131',aqiInfo:'轻度污染',aqiLevel:'3'},{ymd:'2017-01-04',bWendu:'15℃',yWendu:'11℃',tianqi:'小雨~中雨',fengxiang:'东风',fengli:'1-2级',aqi:'75',aqiInfo:'良',aqiLevel:'2'},{ymd:'2017-01-05',bWendu:'12℃',yWendu:'11℃',tianqi:'中雨~小雨',fengxiang:'东风',fengli:'1-2级',aqi:'44',aqiInfo:'优',aqiLevel:'1'},{ymd:'2017-01-06',bWendu:'14℃',yWendu:'11℃',tianqi:'小雨~中雨',fengxiang:'东风',fengli:'1-2级',aqi:'36',aqiInfo:'优',aqiLevel:'1'},{ymd:'2017-01-07',bWendu:'13℃',yWendu:'9℃',tianqi:'小雨',fengxiang:'东风',fengli:'1-2级',aqi:'29',aqiInfo:'优',aqiLevel:'1'},{ymd:'2017-01-08',bWendu:'10℃',yWendu:'5℃',tianqi:'小雨~阴',fengxiang:'西北风',fengli:'3-4级',aqi:'105',aqiInfo:'轻度污染',aqiLevel:'3'},{ymd:'2017-01-09',bWendu:'8℃',yWendu:'4℃',tianqi:'多云',fengxiang:'北风',fengli:'1-2级',aqi:'82',aqiInfo:'良',aqiLevel:'2'},{ymd:'2017-01-10',bWendu:'9℃',yWendu:'6℃',tianqi:'多云~阴',fengxiang:'北风',fengli:'1-2级',aqi:'109',aqiInfo:'轻度污染',aqiLevel:'3'},{ymd:'2017-01-11',bWendu:'9℃',yWendu:'5℃',tianqi:'小雨',fengxiang:'东北风',fengli:'1-2级',aqi:'50',aqiInfo:'优',aqiLevel:'1'},{ymd:'2017-01-12',bWendu:'8℃',yWendu:'3℃',tianqi:'小雨~多云',fengxiang:'西北风',fengli:'1-2级',aqi:'72',aqiInfo:'良',aqiLevel:'2'},{ymd:'2017-01-13',bWendu:'11℃',yWendu:'2℃',tianqi:'晴',fengxiang:'西北风',fengli:'1-2级',aqi:'127',aqiInfo:'轻度污染',aqiLevel:'3'},{ymd:'2017-01-14',bWendu:'8℃',yWendu:'3℃',tianqi:'多云~阴',fengxiang:'北风',fengli:'1-2级',aqi:'47',aqiInfo:'优',aqiLevel:'1'},{ymd:'2017-01-15',bWendu:'7℃',yWendu:'2℃',tianqi:'多云',fengxiang:'东北风',fengli:'1-2级',aqi:'27',aqiInfo:'优',aqiLevel:'1'},{ymd:'2017-01-16',bWendu:'8℃',yWendu:'5℃',tianqi:'多云',fengxiang:'东北风',fengli:'1-2级',aqi:'31',aqiInfo:'优',aqiLevel:'1'},{ymd:'2017-01-17',bWendu:'10℃',yWendu:'7℃',tianqi:'阴~小雨',fengxiang:'东风',fengli:'1-2级',aqi:'58',aqiInfo:'良',aqiLevel:'2'},{ymd:'2017-01-18',bWendu:'9℃',yWendu:'7℃',tianqi:'小雨',fengxiang:'东风',fengli:'1-2级',aqi:'50',aqiInfo:'优',aqiLevel:'1'},{ymd:'2017-01-19',bWendu:'9℃',yWendu:'0℃',tianqi:'小雨~阴',fengxiang:'北风',fengli:'1-2级',aqi:'102',aqiInfo:'轻度污染',aqiLevel:'3'},{ymd:'2017-01-20',bWendu:'3℃',yWendu:'-1℃',tianqi:'晴~多云',fengxiang:'西北风',fengli:'3-4级',aqi:'103',aqiInfo:'轻度污染',aqiLevel:'3'},{ymd:'2017-01-21',bWendu:'6℃',yWendu:'0℃',tianqi:'晴~多云',fengxiang:'西风',fengli:'1-2级',aqi:'48',aqiInfo:'优',aqiLevel:'1'},{ymd:'2017-01-22',bWendu:'6℃',yWendu:'0℃',tianqi:'晴',fengxiang:'西北风',fengli:'1-2级',aqi:'70',aqiInfo:'良',aqiLevel:'2'},{ymd:'2017-01-23',bWendu:'7℃',yWendu:'1℃',tianqi:'晴',fengxiang:'北风',fengli:'1-2级',aqi:'39',aqiInfo:'优',aqiLevel:'1'},{ymd:'2017-01-24',bWendu:'9℃',yWendu:'3℃',tianqi:'多云',fengxiang:'东北风',fengli:'1-2级',aqi:'40',aqiInfo:'优',aqiLevel:'1'},{ymd:'2017-01-25',bWendu:'10℃',yWendu:'4℃',tianqi:'多云~晴',fengxiang:'东风',fengli:'1-2级',aqi:'75',aqiInfo:'良',aqiLevel:'2'},{ymd:'2017-01-26',bWendu:'13℃',yWendu:'5℃',tianqi:'晴~多云',fengxiang:'南风',fengli:'1-2级',aqi:'77',aqiInfo:'良',aqiLevel:'2'},{ymd:'2017-01-27',bWendu:'10℃',yWendu:'5℃',tianqi:'多云',fengxiang:'东北风',fengli:'3-4级',aqi:'77',aqiInfo:'良',aqiLevel:'2'},{ymd:'2017-01-28',bWendu:'15℃',yWendu:'8℃',tianqi:'多云',fengxiang:'东南风',fengli:'1-2级',aqi:'63',aqiInfo:'良',aqiLevel:'2'},{ymd:'2017-01-29',bWendu:'20℃',yWendu:'4℃',tianqi:'多云~小雨',fengxiang:'西南风',fengli:'1-2级',aqi:'82',aqiInfo:'良',aqiLevel:'2'},{ymd:'2017-01-30',bWendu:'6℃',yWendu:'2℃',tianqi:'多云',fengxiang:'北风',fengli:'3-4级',aqi:'42',aqiInfo:'优',aqiLevel:'1'},{ymd:'2017-01-31',bWendu:'7℃',yWendu:'3℃',tianqi:'多云~小雨',fengxiang:'东北风',fengli:'1-2级',aqi:'26',aqiInfo:'优',aqiLevel:'1'},{}],maxWendu:'20（2017-01-29）',minWendu:'-1（2017-01-20）',avgbWendu:'10',avgyWendu:'5',maxAqi:'131',minAqi:'26',avgAqi:'67',maxAqiInfo:'轻度污染',maxAqiDate:'01月03日',maxAqiLevel:'3',minAqiInfo:'空气优',minAqiDate:'01月31日',minAqiLevel:'1'};\""
      ]
     },
     "execution_count": 7,
     "metadata": {},
     "output_type": "execute_result"
    }
   ],
   "source": [
    "response = requests.get(url, headers = headers).text\n",
    "response"
   ]
  },
  {
   "cell_type": "code",
   "execution_count": 8,
   "metadata": {
    "ExecuteTime": {
     "end_time": "2019-10-03T05:31:07.471526Z",
     "start_time": "2019-10-03T05:31:07.460525Z"
    },
    "scrolled": true
   },
   "outputs": [
    {
     "data": {
      "text/plain": [
       "['2017-01-01',\n",
       " '2017-01-02',\n",
       " '2017-01-03',\n",
       " '2017-01-04',\n",
       " '2017-01-05',\n",
       " '2017-01-06',\n",
       " '2017-01-07',\n",
       " '2017-01-08',\n",
       " '2017-01-09',\n",
       " '2017-01-10',\n",
       " '2017-01-11',\n",
       " '2017-01-12',\n",
       " '2017-01-13',\n",
       " '2017-01-14',\n",
       " '2017-01-15',\n",
       " '2017-01-16',\n",
       " '2017-01-17',\n",
       " '2017-01-18',\n",
       " '2017-01-19',\n",
       " '2017-01-20',\n",
       " '2017-01-21',\n",
       " '2017-01-22',\n",
       " '2017-01-23',\n",
       " '2017-01-24',\n",
       " '2017-01-25',\n",
       " '2017-01-26',\n",
       " '2017-01-27',\n",
       " '2017-01-28',\n",
       " '2017-01-29',\n",
       " '2017-01-30',\n",
       " '2017-01-31']"
      ]
     },
     "execution_count": 8,
     "metadata": {},
     "output_type": "execute_result"
    }
   ],
   "source": [
    "ymd = re.findall(\"ymd:'(.*?)',\",response)\n",
    "ymd"
   ]
  },
  {
   "cell_type": "code",
   "execution_count": 9,
   "metadata": {
    "ExecuteTime": {
     "end_time": "2019-10-03T05:34:13.575237Z",
     "start_time": "2019-10-03T05:34:13.424229Z"
    }
   },
   "outputs": [
    {
     "data": {
      "text/plain": [
       "[           ymd high low  tianqi fengxiang     fengli   aqi aqiInfo aqiLevel\n",
       " 0   2011-01-01    6   2  多云~雨夹雪        北风       4-5级  None    None     None\n",
       " 1   2011-01-02    6   2      多云        北风       4-5级  None    None     None\n",
       " 2   2011-01-03    7   2    多云~阴       东北风       3-4级  None    None     None\n",
       " 3   2011-01-04    6   1      小雨        北风       4-5级  None    None     None\n",
       " 4   2011-01-05    5   0    阴~多云        北风       4-5级  None    None     None\n",
       " 5   2011-01-06    6   0      多云        北风       3-4级  None    None     None\n",
       " 6   2011-01-07    7   2      多云        北风       4-5级  None    None     None\n",
       " 7   2011-01-08    7   4    多云~阴       东北风       3-4级  None    None     None\n",
       " 8   2011-01-09    7   0    阴~多云        北风       3-4级  None    None     None\n",
       " 9   2011-01-10    5   0    多云~阴    东北风~东风  4-5级~3-4级  None    None     None\n",
       " 10  2011-01-11    6   2      多云        东风       3-4级  None    None     None\n",
       " 11  2011-01-12    7   3    多云~阴       东北风       3-4级  None    None     None\n",
       " 12  2011-01-13    6   0    阴~多云       东北风       4-5级  None    None     None\n",
       " 13  2011-01-14    5  -2      多云        北风       4-5级  None    None     None\n",
       " 14  2011-01-15    3  -1      多云    北风~东北风       4-5级  None    None     None\n",
       " 15  2011-01-16    4   0    多云~阴       东北风  4-5级~3-4级  None    None     None\n",
       " 16  2011-01-26    7   2       阴       东北风       3-4级  None    None     None\n",
       " 17  2011-01-29    4  -2    晴~多云        北风       4-5级  None    None     None\n",
       " 18  2011-01-30    4  -3    多云~晴       西北风  4-5级~3-4级  None    None     None\n",
       " 19  2011-01-31    7  -2       晴       西北风    微风~3-4级  None    None     None,\n",
       "            ymd high low  tianqi fengxiang     fengli   aqi aqiInfo aqiLevel\n",
       " 0   2012-01-01    9   4      多云    北风~东北风  4-5级~3-4级  None    None     None\n",
       " 1   2012-01-02    8   3    多云~阴       西北风    微风~3-4级  None    None     None\n",
       " 2   2012-01-03    6   0    阴~多云       西北风       4-5级  None    None     None\n",
       " 3   2012-01-04    4  -1       晴       西北风  4-5级~3-4级  None    None     None\n",
       " 4   2012-01-05    5   1    多云~阴        北风       3-4级  None    None     None\n",
       " 5   2012-01-06    7   4    阴~多云       东北风       3-4级  None    None     None\n",
       " 6   2012-01-07    8   5    多云~阴       东北风       3-4级  None    None     None\n",
       " 7   2012-01-08    8   5      小雨       东北风       3-4级  None    None     None\n",
       " 8   2012-01-09    9   5       阴       东北风       3-4级  None    None     None\n",
       " 9   2012-01-10    9   5       阴       东北风       3-4级  None    None     None\n",
       " 10  2012-01-11    8   2       阴        北风       4-5级  None    None     None\n",
       " 11  2012-01-12    8   4      多云        东风       3-4级  None    None     None\n",
       " 12  2012-01-13    9   5    阴~小雨        东风       3-4级  None    None     None\n",
       " 13  2012-01-14    6   4      中雨       东北风       3-4级  None    None     None\n",
       " 14  2012-01-16    9   4    阴~多云    东北风~东风       3-4级  None    None     None\n",
       " 15  2012-01-17   10   5    多云~阴    东北风~东风       3-4级  None    None     None\n",
       " 16  2012-01-18   10   7      小雨        东风       3-4级  None    None     None\n",
       " 17  2012-01-19    9   6    小雨~阴       东北风       4-5级  None    None     None\n",
       " 18  2012-01-20    9   5    阴~小雨        北风       4-5级  None    None     None\n",
       " 19  2012-01-21    6   1  小雨~雨夹雪        北风       4-5级  None    None     None\n",
       " 20  2012-01-22    4  -1    小雪~阴        北风       4-5级  None    None     None\n",
       " 21  2012-01-23    4  -2      多云        北风  4-5级~3-4级  None    None     None\n",
       " 22  2012-01-24    4  -2      多云        北风       3-4级  None    None     None\n",
       " 23  2012-01-25    4  -1       晴    西北风~北风       3-4级  None    None     None\n",
       " 24  2012-01-26    7  -1    晴~多云    东南风~南风       3-4级  None    None     None\n",
       " 25  2012-01-27    9   5      小雨       东北风       3-4级  None    None     None\n",
       " 26  2012-01-28    8   4    小雨~阴       东北风       4-5级  None    None     None\n",
       " 27  2012-01-29    9   3   多云~小雨       东北风       4-5级  None    None     None\n",
       " 28  2012-01-30    8   2      多云       东北风       3-4级  None    None     None\n",
       " 29  2012-01-31   10   2    多云~晴     南风~北风  3-4级~4-5级  None    None     None,\n",
       "            ymd high low   tianqi fengxiang     fengli   aqi aqiInfo aqiLevel\n",
       " 0   2013-01-01    9   1        晴    西北风~北风       3-4级  None    None     None\n",
       " 1   2013-01-02    9   1     多云~阴        北风       4-5级  None    None     None\n",
       " 2   2013-01-03    0  -2     小雪~阴        北风  4-5级~3-4级  None    None     None\n",
       " 3   2013-01-04    3   0      雨夹雪        北风       3-4级  None    None     None\n",
       " 4   2013-01-05    5   2    阴~雨夹雪        北风       3-4级  None    None     None\n",
       " 5   2013-01-06    5   1      雨夹雪       东北风       3-4级  None    None     None\n",
       " 6   2013-01-07    5   1    雨夹雪~阴        北风       3-4级  None    None     None\n",
       " 7   2013-01-08    6   2     多云~阴        北风       3-4级  None    None     None\n",
       " 8   2013-01-09    7   0     多云~晴        北风       4-5级  None    None     None\n",
       " 9   2013-01-10    6   1        晴    北风~东北风       3-4级  None    None     None\n",
       " 10  2013-01-11    9   2     多云~阴     东风~南风       3-4级  None    None     None\n",
       " 11  2013-01-12   10   4    多云~中雨    东北风~东风       3-4级  None    None     None\n",
       " 12  2013-01-13    7   3  小到中雨~多云       东北风  4-5级~3-4级  None    None     None\n",
       " 13  2013-01-14   10   3        晴        北风       3-4级  None    None     None\n",
       " 14  2013-01-15    9   3     多云~晴    东风~东南风         微风  None    None     None\n",
       " 15  2013-01-16    7   1       多云    西北风~北风  3-4级~4-5级  None    None     None\n",
       " 16  2013-01-17    5  -1       多云    北风~东北风  4-5级~3-4级  None    None     None\n",
       " 17  2013-01-18    6   0        晴        北风       3-4级  None    None     None\n",
       " 18  2013-01-19   10   6     晴~多云       东南风  3-4级~4-5级  None    None     None\n",
       " 19  2013-01-20   14   8     阴~小雨       东南风       3-4级  None    None     None\n",
       " 20  2013-01-21   10   4       小雨       西北风       4-5级  None    None     None\n",
       " 21  2013-01-22    6   2    小雨~多云       西北风       3-4级  None    None     None\n",
       " 22  2013-01-23    8   3       多云       西北风       3-4级  None    None     None\n",
       " 23  2013-01-24   11   1       多云       西北风       4-5级  None    None     None\n",
       " 24  2013-01-25    9   1        晴     西风~南风       3-4级  None    None     None\n",
       " 25  2013-01-26   11   2       多云    西风~东北风       3-4级  None    None     None\n",
       " 26  2013-01-27    9   1        晴   东北风~东南风       3-4级  None    None     None\n",
       " 27  2013-01-28   11   6     晴~多云       东南风       3-4级  None    None     None\n",
       " 28  2013-01-29   14   6      阴~晴       东南风       3-4级  None    None     None\n",
       " 29  2013-01-30   15   9     晴~多云       东南风       3-4级  None    None     None\n",
       " 30  2013-01-31   17  10       小雨    东南风~南风       4-5级  None    None     None,\n",
       "            ymd high low tianqi fengxiang     fengli   aqi aqiInfo aqiLevel\n",
       " 0   2014-01-01   14   5      晴        西风       3-4级  None    None     None\n",
       " 1   2014-01-02   16   8   晴~多云       东南风       3-4级  None    None     None\n",
       " 2   2014-01-03   14   6     多云        北风       3-4级  None    None     None\n",
       " 3   2014-01-04   10   3   多云~晴    西北风~北风       3-4级  None    None     None\n",
       " 4   2014-01-05   10   5   晴~多云    东北风~东风       3-4级  None    None     None\n",
       " 5   2014-01-06   11   8     多云       东南风       3-4级  None    None     None\n",
       " 6   2014-01-07   12   6  小雨~中雨       东南风  3-4级~4-5级  None    None     None\n",
       " 7   2014-01-08    8   2     小雨    西北风~北风       4-5级  None    None     None\n",
       " 8   2014-01-09    5   0     多云        北风       4-5级  None    None     None\n",
       " 9   2014-01-10    8   4    晴~阴        东风       3-4级  None    None     None\n",
       " 10  2014-01-11    8   4     小雨    东风~东北风       3-4级  None    None     None\n",
       " 11  2014-01-12    7   3   小雨~阴        北风       3-4级  None    None     None\n",
       " 12  2014-01-13    7   2     多云    北风~东北风       3-4级  None    None     None\n",
       " 13  2014-01-14    8   2   多云~晴       东北风       3-4级  None    None     None\n",
       " 14  2014-01-15    8   3      晴       东北风       3-4级  None    None     None\n",
       " 15  2014-01-16   10   3     多云   西北风~东南风       3-4级  None    None     None\n",
       " 16  2014-01-17   11   3      晴       西北风         微风  None    None     None\n",
       " 17  2014-01-18    9   2      晴    西北风~北风       3-4级  None    None     None\n",
       " 18  2014-01-19   10   3      晴   东南风~西南风       3-4级  None    None     None\n",
       " 19  2014-01-20   10   1      晴       西北风       4-5级  None    None     None\n",
       " 20  2014-01-21    6   0      晴       西北风  4-5级~3-4级  None    None     None\n",
       " 21  2014-01-22    6   1      晴    北风~东南风       3-4级  None    None     None\n",
       " 22  2014-01-23   11   6      晴        南风       3-4级  None    None     None\n",
       " 23  2014-01-24   16   8   晴~多云        南风       4-5级  None    None     None\n",
       " 24  2014-01-25   17   6     多云    西南风~北风       4-5级  None    None     None\n",
       " 25  2014-01-26   10   4     多云    东北风~东风  4-5级~3-4级  None    None     None\n",
       " 26  2014-01-27   13   6      晴       东南风       3-4级  None    None     None\n",
       " 27  2014-01-28   14   7   多云~阴   东北风~东南风       3-4级  None    None     None\n",
       " 28  2014-01-29   14   8   小雨~阴    东南风~西风       3-4级  None    None     None\n",
       " 29  2014-01-30   16  10   多云~晴    南风~东南风       3-4级  None    None     None\n",
       " 30  2014-01-31   18  12      晴    东南风~南风       3-4级  None    None     None,\n",
       "            ymd high low  tianqi fengxiang   fengli   aqi aqiInfo aqiLevel\n",
       " 0   2015-01-01    4  -1       晴       西北风  3-4级~微风  None    None     None\n",
       " 1   2015-01-02    8   0    晴~多云    西风~西南风       微风  None    None     None\n",
       " 2   2015-01-03   11   4    多云~晴        南风       微风  None    None     None\n",
       " 3   2015-01-04   16   5       晴   西南风~东南风       微风  None    None     None\n",
       " 4   2015-01-05   19   9   多云~小雨    南风~西北风       微风  None    None     None\n",
       " 5   2015-01-06    9   3      小雨        北风       微风  None    None     None\n",
       " 6   2015-01-07    7   2    多云~晴       西北风       微风  None    None     None\n",
       " 7   2015-01-08    8   1    晴~多云       西北风       微风  None    None     None\n",
       " 8   2015-01-09   11   3       晴    西风~西北风       微风  None    None     None\n",
       " 9   2015-01-10   13   5    多云~晴        西风       微风  None    None     None\n",
       " 10  2015-01-11   13   5    晴~多云    北风~东北风       微风  None    None     None\n",
       " 11  2015-01-12    9   6    多云~阴       东北风       微风  None    None     None\n",
       " 12  2015-01-13   10   7   小雨~中雨       东北风       微风  None    None     None\n",
       " 13  2015-01-14    9   6    小雨~阴        北风       微风  None    None     None\n",
       " 14  2015-01-15    9   4   小雨~多云       西北风       微风  None    None     None\n",
       " 15  2015-01-16   10   4      多云    西北风~北风       微风  None    None     None\n",
       " 16  2015-01-17    7   3      多云    北风~东北风       微风  None    None     None\n",
       " 17  2015-01-18   10   3    多云~晴    西风~西北风       微风  None    None     None\n",
       " 18  2015-01-19   10   4    晴~多云   西北风~东北风       微风  None    None     None\n",
       " 19  2015-01-20   11   7    阴~小雨    东南风~南风       微风  None    None     None\n",
       " 20  2015-01-21   14   3      多云    西风~西北风       微风  None    None     None\n",
       " 21  2015-01-22    8   2    阴~多云       西北风       微风  None    None     None\n",
       " 22  2015-01-23   10   4       晴       东南风       微风  None    None     None\n",
       " 23  2015-01-24   15   7      多云       东南风       微风  None    None     None\n",
       " 24  2015-01-25   15   8      小雨       西北风       微风  None    None     None\n",
       " 25  2015-01-26   11   5      小雨        北风       微风  None    None     None\n",
       " 26  2015-01-27    7   3  小雨~雨夹雪       东北风     3-4级  None    None     None\n",
       " 27  2015-01-28    5   3  雨夹雪~小雨       东北风       微风  None    None     None\n",
       " 28  2015-01-29    6   2      小雨    东北风~北风       微风  None    None     None\n",
       " 29  2015-01-30    5   2    阴~多云        北风  3-4级~微风  None    None     None\n",
       " 30  2015-01-31    6   3    多云~阴    西北风~北风       微风  None    None     None,\n",
       "            ymd high low  tianqi fengxiang fengli  aqi aqiInfo aqiLevel\n",
       " 0   2016-01-01   12   4    晴~多云       东南风     微风   89       良        2\n",
       " 1   2016-01-02   16   9   多云~小雨       西南风     微风  167    中度污染        4\n",
       " 2   2016-01-03   15  10      小雨       东南风     微风  210    重度污染        5\n",
       " 3   2016-01-04   15   9   小雨~中雨       东北风     微风  144    轻度污染        3\n",
       " 4   2016-01-05   10   7      小雨       东北风   3-4级   46       优        1\n",
       " 5   2016-01-06    9   5   小雨~多云       东北风     微风   81       良        2\n",
       " 6   2016-01-07    9   4    阴~多云        北风     微风  110    轻度污染        3\n",
       " 7   2016-01-08    8   3      多云       西北风     微风  126    轻度污染        3\n",
       " 8   2016-01-09    9   4    多云~阴        东风     微风  149    轻度污染        3\n",
       " 9   2016-01-10   10   7   小雨~中雨        东风     微风   78       良        2\n",
       " 10  2016-01-11    8   4      小雨       东北风   3-4级   47       优        1\n",
       " 11  2016-01-12    6   1    阴~多云        北风     微风   67       良        2\n",
       " 12  2016-01-13    5   0      多云       西北风     微风  189    中度污染        4\n",
       " 13  2016-01-14    7   1      多云        西风     微风  229    重度污染        5\n",
       " 14  2016-01-15   10   4    晴~多云        西风     微风  180    中度污染        4\n",
       " 15  2016-01-16   10   4   多云~小雨        东风     微风  157    中度污染        4\n",
       " 16  2016-01-17    8   3   小雨~多云        北风   3-4级  169    中度污染        4\n",
       " 17  2016-01-18    5  -1    多云~晴       西北风   3-4级  128    轻度污染        3\n",
       " 18  2016-01-19    4  -1    晴~多云        北风     微风   71       良        2\n",
       " 19  2016-01-20    5   1   阴~雨夹雪       东北风     微风   31       优        1\n",
       " 20  2016-01-21    4   2     雨夹雪       东北风     微风   34       优        1\n",
       " 21  2016-01-22    5   1  小雨~雨夹雪       东北风   3-4级   76       良        2\n",
       " 22  2016-01-23    0  -7    多云~晴       西北风   4-5级   58       良        2\n",
       " 23  2016-01-24   -4  -7       晴       西北风   4-5级   59       良        2\n",
       " 24  2016-01-25    2  -6       晴        西风   3-4级   67       良        2\n",
       " 25  2016-01-26    6  -2     晴~阴       西南风     微风   96       良        2\n",
       " 26  2016-01-27    7   4   小雨~中雨        东风     微风   48       优        1\n",
       " 27  2016-01-28    9   6   小雨~中雨        北风     微风   48       优        1\n",
       " 28  2016-01-29    8   4      小雨       东北风   3-4级   47       优        1\n",
       " 29  2016-01-30    7   3    小雨~阴        北风     微风   56       良        2\n",
       " 30  2016-01-31    5   1     雨夹雪        北风     微风   77       良        2,\n",
       "            ymd high low tianqi fengxiang fengli  aqi aqiInfo aqiLevel\n",
       " 0   2017-01-01   16  10   晴~多云       东南风   1-2级   54       良        2\n",
       " 1   2017-01-02   15   8     多云        北风   1-2级   92       良        2\n",
       " 2   2017-01-03   14   9   晴~多云        东风   1-2级  131    轻度污染        3\n",
       " 3   2017-01-04   15  11  小雨~中雨        东风   1-2级   75       良        2\n",
       " 4   2017-01-05   12  11  中雨~小雨        东风   1-2级   44       优        1\n",
       " 5   2017-01-06   14  11  小雨~中雨        东风   1-2级   36       优        1\n",
       " 6   2017-01-07   13   9     小雨        东风   1-2级   29       优        1\n",
       " 7   2017-01-08   10   5   小雨~阴       西北风   3-4级  105    轻度污染        3\n",
       " 8   2017-01-09    8   4     多云        北风   1-2级   82       良        2\n",
       " 9   2017-01-10    9   6   多云~阴        北风   1-2级  109    轻度污染        3\n",
       " 10  2017-01-11    9   5     小雨       东北风   1-2级   50       优        1\n",
       " 11  2017-01-12    8   3  小雨~多云       西北风   1-2级   72       良        2\n",
       " 12  2017-01-13   11   2      晴       西北风   1-2级  127    轻度污染        3\n",
       " 13  2017-01-14    8   3   多云~阴        北风   1-2级   47       优        1\n",
       " 14  2017-01-15    7   2     多云       东北风   1-2级   27       优        1\n",
       " 15  2017-01-16    8   5     多云       东北风   1-2级   31       优        1\n",
       " 16  2017-01-17   10   7   阴~小雨        东风   1-2级   58       良        2\n",
       " 17  2017-01-18    9   7     小雨        东风   1-2级   50       优        1\n",
       " 18  2017-01-19    9   0   小雨~阴        北风   1-2级  102    轻度污染        3\n",
       " 19  2017-01-20    3  -1   晴~多云       西北风   3-4级  103    轻度污染        3\n",
       " 20  2017-01-21    6   0   晴~多云        西风   1-2级   48       优        1\n",
       " 21  2017-01-22    6   0      晴       西北风   1-2级   70       良        2\n",
       " 22  2017-01-23    7   1      晴        北风   1-2级   39       优        1\n",
       " 23  2017-01-24    9   3     多云       东北风   1-2级   40       优        1\n",
       " 24  2017-01-25   10   4   多云~晴        东风   1-2级   75       良        2\n",
       " 25  2017-01-26   13   5   晴~多云        南风   1-2级   77       良        2\n",
       " 26  2017-01-27   10   5     多云       东北风   3-4级   77       良        2\n",
       " 27  2017-01-28   15   8     多云       东南风   1-2级   63       良        2\n",
       " 28  2017-01-29   20   4  多云~小雨       西南风   1-2级   82       良        2\n",
       " 29  2017-01-30    6   2     多云        北风   3-4级   42       优        1\n",
       " 30  2017-01-31    7   3  多云~小雨       东北风   1-2级   26       优        1]"
      ]
     },
     "execution_count": 9,
     "metadata": {},
     "output_type": "execute_result"
    }
   ],
   "source": [
    "info"
   ]
  },
  {
   "cell_type": "code",
   "execution_count": 10,
   "metadata": {
    "ExecuteTime": {
     "end_time": "2019-10-03T05:35:01.816015Z",
     "start_time": "2019-10-03T05:35:01.716009Z"
    }
   },
   "outputs": [
    {
     "data": {
      "text/html": [
       "<div>\n",
       "<style scoped>\n",
       "    .dataframe tbody tr th:only-of-type {\n",
       "        vertical-align: middle;\n",
       "    }\n",
       "\n",
       "    .dataframe tbody tr th {\n",
       "        vertical-align: top;\n",
       "    }\n",
       "\n",
       "    .dataframe thead th {\n",
       "        text-align: right;\n",
       "    }\n",
       "</style>\n",
       "<table border=\"1\" class=\"dataframe\">\n",
       "  <thead>\n",
       "    <tr style=\"text-align: right;\">\n",
       "      <th></th>\n",
       "      <th>ymd</th>\n",
       "      <th>high</th>\n",
       "      <th>low</th>\n",
       "      <th>tianqi</th>\n",
       "      <th>fengxiang</th>\n",
       "      <th>fengli</th>\n",
       "      <th>aqi</th>\n",
       "      <th>aqiInfo</th>\n",
       "      <th>aqiLevel</th>\n",
       "    </tr>\n",
       "  </thead>\n",
       "  <tbody>\n",
       "    <tr>\n",
       "      <th>0</th>\n",
       "      <td>2011-01-01</td>\n",
       "      <td>6</td>\n",
       "      <td>2</td>\n",
       "      <td>多云~雨夹雪</td>\n",
       "      <td>北风</td>\n",
       "      <td>4-5级</td>\n",
       "      <td>None</td>\n",
       "      <td>None</td>\n",
       "      <td>None</td>\n",
       "    </tr>\n",
       "    <tr>\n",
       "      <th>1</th>\n",
       "      <td>2011-01-02</td>\n",
       "      <td>6</td>\n",
       "      <td>2</td>\n",
       "      <td>多云</td>\n",
       "      <td>北风</td>\n",
       "      <td>4-5级</td>\n",
       "      <td>None</td>\n",
       "      <td>None</td>\n",
       "      <td>None</td>\n",
       "    </tr>\n",
       "    <tr>\n",
       "      <th>2</th>\n",
       "      <td>2011-01-03</td>\n",
       "      <td>7</td>\n",
       "      <td>2</td>\n",
       "      <td>多云~阴</td>\n",
       "      <td>东北风</td>\n",
       "      <td>3-4级</td>\n",
       "      <td>None</td>\n",
       "      <td>None</td>\n",
       "      <td>None</td>\n",
       "    </tr>\n",
       "    <tr>\n",
       "      <th>3</th>\n",
       "      <td>2011-01-04</td>\n",
       "      <td>6</td>\n",
       "      <td>1</td>\n",
       "      <td>小雨</td>\n",
       "      <td>北风</td>\n",
       "      <td>4-5级</td>\n",
       "      <td>None</td>\n",
       "      <td>None</td>\n",
       "      <td>None</td>\n",
       "    </tr>\n",
       "    <tr>\n",
       "      <th>4</th>\n",
       "      <td>2011-01-05</td>\n",
       "      <td>5</td>\n",
       "      <td>0</td>\n",
       "      <td>阴~多云</td>\n",
       "      <td>北风</td>\n",
       "      <td>4-5级</td>\n",
       "      <td>None</td>\n",
       "      <td>None</td>\n",
       "      <td>None</td>\n",
       "    </tr>\n",
       "    <tr>\n",
       "      <th>5</th>\n",
       "      <td>2011-01-06</td>\n",
       "      <td>6</td>\n",
       "      <td>0</td>\n",
       "      <td>多云</td>\n",
       "      <td>北风</td>\n",
       "      <td>3-4级</td>\n",
       "      <td>None</td>\n",
       "      <td>None</td>\n",
       "      <td>None</td>\n",
       "    </tr>\n",
       "    <tr>\n",
       "      <th>6</th>\n",
       "      <td>2011-01-07</td>\n",
       "      <td>7</td>\n",
       "      <td>2</td>\n",
       "      <td>多云</td>\n",
       "      <td>北风</td>\n",
       "      <td>4-5级</td>\n",
       "      <td>None</td>\n",
       "      <td>None</td>\n",
       "      <td>None</td>\n",
       "    </tr>\n",
       "    <tr>\n",
       "      <th>7</th>\n",
       "      <td>2011-01-08</td>\n",
       "      <td>7</td>\n",
       "      <td>4</td>\n",
       "      <td>多云~阴</td>\n",
       "      <td>东北风</td>\n",
       "      <td>3-4级</td>\n",
       "      <td>None</td>\n",
       "      <td>None</td>\n",
       "      <td>None</td>\n",
       "    </tr>\n",
       "    <tr>\n",
       "      <th>8</th>\n",
       "      <td>2011-01-09</td>\n",
       "      <td>7</td>\n",
       "      <td>0</td>\n",
       "      <td>阴~多云</td>\n",
       "      <td>北风</td>\n",
       "      <td>3-4级</td>\n",
       "      <td>None</td>\n",
       "      <td>None</td>\n",
       "      <td>None</td>\n",
       "    </tr>\n",
       "    <tr>\n",
       "      <th>9</th>\n",
       "      <td>2011-01-10</td>\n",
       "      <td>5</td>\n",
       "      <td>0</td>\n",
       "      <td>多云~阴</td>\n",
       "      <td>东北风~东风</td>\n",
       "      <td>4-5级~3-4级</td>\n",
       "      <td>None</td>\n",
       "      <td>None</td>\n",
       "      <td>None</td>\n",
       "    </tr>\n",
       "    <tr>\n",
       "      <th>10</th>\n",
       "      <td>2011-01-11</td>\n",
       "      <td>6</td>\n",
       "      <td>2</td>\n",
       "      <td>多云</td>\n",
       "      <td>东风</td>\n",
       "      <td>3-4级</td>\n",
       "      <td>None</td>\n",
       "      <td>None</td>\n",
       "      <td>None</td>\n",
       "    </tr>\n",
       "    <tr>\n",
       "      <th>11</th>\n",
       "      <td>2011-01-12</td>\n",
       "      <td>7</td>\n",
       "      <td>3</td>\n",
       "      <td>多云~阴</td>\n",
       "      <td>东北风</td>\n",
       "      <td>3-4级</td>\n",
       "      <td>None</td>\n",
       "      <td>None</td>\n",
       "      <td>None</td>\n",
       "    </tr>\n",
       "    <tr>\n",
       "      <th>12</th>\n",
       "      <td>2011-01-13</td>\n",
       "      <td>6</td>\n",
       "      <td>0</td>\n",
       "      <td>阴~多云</td>\n",
       "      <td>东北风</td>\n",
       "      <td>4-5级</td>\n",
       "      <td>None</td>\n",
       "      <td>None</td>\n",
       "      <td>None</td>\n",
       "    </tr>\n",
       "    <tr>\n",
       "      <th>13</th>\n",
       "      <td>2011-01-14</td>\n",
       "      <td>5</td>\n",
       "      <td>-2</td>\n",
       "      <td>多云</td>\n",
       "      <td>北风</td>\n",
       "      <td>4-5级</td>\n",
       "      <td>None</td>\n",
       "      <td>None</td>\n",
       "      <td>None</td>\n",
       "    </tr>\n",
       "    <tr>\n",
       "      <th>14</th>\n",
       "      <td>2011-01-15</td>\n",
       "      <td>3</td>\n",
       "      <td>-1</td>\n",
       "      <td>多云</td>\n",
       "      <td>北风~东北风</td>\n",
       "      <td>4-5级</td>\n",
       "      <td>None</td>\n",
       "      <td>None</td>\n",
       "      <td>None</td>\n",
       "    </tr>\n",
       "    <tr>\n",
       "      <th>15</th>\n",
       "      <td>2011-01-16</td>\n",
       "      <td>4</td>\n",
       "      <td>0</td>\n",
       "      <td>多云~阴</td>\n",
       "      <td>东北风</td>\n",
       "      <td>4-5级~3-4级</td>\n",
       "      <td>None</td>\n",
       "      <td>None</td>\n",
       "      <td>None</td>\n",
       "    </tr>\n",
       "    <tr>\n",
       "      <th>16</th>\n",
       "      <td>2011-01-26</td>\n",
       "      <td>7</td>\n",
       "      <td>2</td>\n",
       "      <td>阴</td>\n",
       "      <td>东北风</td>\n",
       "      <td>3-4级</td>\n",
       "      <td>None</td>\n",
       "      <td>None</td>\n",
       "      <td>None</td>\n",
       "    </tr>\n",
       "    <tr>\n",
       "      <th>17</th>\n",
       "      <td>2011-01-29</td>\n",
       "      <td>4</td>\n",
       "      <td>-2</td>\n",
       "      <td>晴~多云</td>\n",
       "      <td>北风</td>\n",
       "      <td>4-5级</td>\n",
       "      <td>None</td>\n",
       "      <td>None</td>\n",
       "      <td>None</td>\n",
       "    </tr>\n",
       "    <tr>\n",
       "      <th>18</th>\n",
       "      <td>2011-01-30</td>\n",
       "      <td>4</td>\n",
       "      <td>-3</td>\n",
       "      <td>多云~晴</td>\n",
       "      <td>西北风</td>\n",
       "      <td>4-5级~3-4级</td>\n",
       "      <td>None</td>\n",
       "      <td>None</td>\n",
       "      <td>None</td>\n",
       "    </tr>\n",
       "    <tr>\n",
       "      <th>19</th>\n",
       "      <td>2011-01-31</td>\n",
       "      <td>7</td>\n",
       "      <td>-2</td>\n",
       "      <td>晴</td>\n",
       "      <td>西北风</td>\n",
       "      <td>微风~3-4级</td>\n",
       "      <td>None</td>\n",
       "      <td>None</td>\n",
       "      <td>None</td>\n",
       "    </tr>\n",
       "    <tr>\n",
       "      <th>0</th>\n",
       "      <td>2012-01-01</td>\n",
       "      <td>9</td>\n",
       "      <td>4</td>\n",
       "      <td>多云</td>\n",
       "      <td>北风~东北风</td>\n",
       "      <td>4-5级~3-4级</td>\n",
       "      <td>None</td>\n",
       "      <td>None</td>\n",
       "      <td>None</td>\n",
       "    </tr>\n",
       "    <tr>\n",
       "      <th>1</th>\n",
       "      <td>2012-01-02</td>\n",
       "      <td>8</td>\n",
       "      <td>3</td>\n",
       "      <td>多云~阴</td>\n",
       "      <td>西北风</td>\n",
       "      <td>微风~3-4级</td>\n",
       "      <td>None</td>\n",
       "      <td>None</td>\n",
       "      <td>None</td>\n",
       "    </tr>\n",
       "    <tr>\n",
       "      <th>2</th>\n",
       "      <td>2012-01-03</td>\n",
       "      <td>6</td>\n",
       "      <td>0</td>\n",
       "      <td>阴~多云</td>\n",
       "      <td>西北风</td>\n",
       "      <td>4-5级</td>\n",
       "      <td>None</td>\n",
       "      <td>None</td>\n",
       "      <td>None</td>\n",
       "    </tr>\n",
       "    <tr>\n",
       "      <th>3</th>\n",
       "      <td>2012-01-04</td>\n",
       "      <td>4</td>\n",
       "      <td>-1</td>\n",
       "      <td>晴</td>\n",
       "      <td>西北风</td>\n",
       "      <td>4-5级~3-4级</td>\n",
       "      <td>None</td>\n",
       "      <td>None</td>\n",
       "      <td>None</td>\n",
       "    </tr>\n",
       "    <tr>\n",
       "      <th>4</th>\n",
       "      <td>2012-01-05</td>\n",
       "      <td>5</td>\n",
       "      <td>1</td>\n",
       "      <td>多云~阴</td>\n",
       "      <td>北风</td>\n",
       "      <td>3-4级</td>\n",
       "      <td>None</td>\n",
       "      <td>None</td>\n",
       "      <td>None</td>\n",
       "    </tr>\n",
       "    <tr>\n",
       "      <th>5</th>\n",
       "      <td>2012-01-06</td>\n",
       "      <td>7</td>\n",
       "      <td>4</td>\n",
       "      <td>阴~多云</td>\n",
       "      <td>东北风</td>\n",
       "      <td>3-4级</td>\n",
       "      <td>None</td>\n",
       "      <td>None</td>\n",
       "      <td>None</td>\n",
       "    </tr>\n",
       "    <tr>\n",
       "      <th>6</th>\n",
       "      <td>2012-01-07</td>\n",
       "      <td>8</td>\n",
       "      <td>5</td>\n",
       "      <td>多云~阴</td>\n",
       "      <td>东北风</td>\n",
       "      <td>3-4级</td>\n",
       "      <td>None</td>\n",
       "      <td>None</td>\n",
       "      <td>None</td>\n",
       "    </tr>\n",
       "    <tr>\n",
       "      <th>7</th>\n",
       "      <td>2012-01-08</td>\n",
       "      <td>8</td>\n",
       "      <td>5</td>\n",
       "      <td>小雨</td>\n",
       "      <td>东北风</td>\n",
       "      <td>3-4级</td>\n",
       "      <td>None</td>\n",
       "      <td>None</td>\n",
       "      <td>None</td>\n",
       "    </tr>\n",
       "    <tr>\n",
       "      <th>8</th>\n",
       "      <td>2012-01-09</td>\n",
       "      <td>9</td>\n",
       "      <td>5</td>\n",
       "      <td>阴</td>\n",
       "      <td>东北风</td>\n",
       "      <td>3-4级</td>\n",
       "      <td>None</td>\n",
       "      <td>None</td>\n",
       "      <td>None</td>\n",
       "    </tr>\n",
       "    <tr>\n",
       "      <th>9</th>\n",
       "      <td>2012-01-10</td>\n",
       "      <td>9</td>\n",
       "      <td>5</td>\n",
       "      <td>阴</td>\n",
       "      <td>东北风</td>\n",
       "      <td>3-4级</td>\n",
       "      <td>None</td>\n",
       "      <td>None</td>\n",
       "      <td>None</td>\n",
       "    </tr>\n",
       "    <tr>\n",
       "      <th>...</th>\n",
       "      <td>...</td>\n",
       "      <td>...</td>\n",
       "      <td>...</td>\n",
       "      <td>...</td>\n",
       "      <td>...</td>\n",
       "      <td>...</td>\n",
       "      <td>...</td>\n",
       "      <td>...</td>\n",
       "      <td>...</td>\n",
       "    </tr>\n",
       "    <tr>\n",
       "      <th>1</th>\n",
       "      <td>2017-01-02</td>\n",
       "      <td>15</td>\n",
       "      <td>8</td>\n",
       "      <td>多云</td>\n",
       "      <td>北风</td>\n",
       "      <td>1-2级</td>\n",
       "      <td>92</td>\n",
       "      <td>良</td>\n",
       "      <td>2</td>\n",
       "    </tr>\n",
       "    <tr>\n",
       "      <th>2</th>\n",
       "      <td>2017-01-03</td>\n",
       "      <td>14</td>\n",
       "      <td>9</td>\n",
       "      <td>晴~多云</td>\n",
       "      <td>东风</td>\n",
       "      <td>1-2级</td>\n",
       "      <td>131</td>\n",
       "      <td>轻度污染</td>\n",
       "      <td>3</td>\n",
       "    </tr>\n",
       "    <tr>\n",
       "      <th>3</th>\n",
       "      <td>2017-01-04</td>\n",
       "      <td>15</td>\n",
       "      <td>11</td>\n",
       "      <td>小雨~中雨</td>\n",
       "      <td>东风</td>\n",
       "      <td>1-2级</td>\n",
       "      <td>75</td>\n",
       "      <td>良</td>\n",
       "      <td>2</td>\n",
       "    </tr>\n",
       "    <tr>\n",
       "      <th>4</th>\n",
       "      <td>2017-01-05</td>\n",
       "      <td>12</td>\n",
       "      <td>11</td>\n",
       "      <td>中雨~小雨</td>\n",
       "      <td>东风</td>\n",
       "      <td>1-2级</td>\n",
       "      <td>44</td>\n",
       "      <td>优</td>\n",
       "      <td>1</td>\n",
       "    </tr>\n",
       "    <tr>\n",
       "      <th>5</th>\n",
       "      <td>2017-01-06</td>\n",
       "      <td>14</td>\n",
       "      <td>11</td>\n",
       "      <td>小雨~中雨</td>\n",
       "      <td>东风</td>\n",
       "      <td>1-2级</td>\n",
       "      <td>36</td>\n",
       "      <td>优</td>\n",
       "      <td>1</td>\n",
       "    </tr>\n",
       "    <tr>\n",
       "      <th>6</th>\n",
       "      <td>2017-01-07</td>\n",
       "      <td>13</td>\n",
       "      <td>9</td>\n",
       "      <td>小雨</td>\n",
       "      <td>东风</td>\n",
       "      <td>1-2级</td>\n",
       "      <td>29</td>\n",
       "      <td>优</td>\n",
       "      <td>1</td>\n",
       "    </tr>\n",
       "    <tr>\n",
       "      <th>7</th>\n",
       "      <td>2017-01-08</td>\n",
       "      <td>10</td>\n",
       "      <td>5</td>\n",
       "      <td>小雨~阴</td>\n",
       "      <td>西北风</td>\n",
       "      <td>3-4级</td>\n",
       "      <td>105</td>\n",
       "      <td>轻度污染</td>\n",
       "      <td>3</td>\n",
       "    </tr>\n",
       "    <tr>\n",
       "      <th>8</th>\n",
       "      <td>2017-01-09</td>\n",
       "      <td>8</td>\n",
       "      <td>4</td>\n",
       "      <td>多云</td>\n",
       "      <td>北风</td>\n",
       "      <td>1-2级</td>\n",
       "      <td>82</td>\n",
       "      <td>良</td>\n",
       "      <td>2</td>\n",
       "    </tr>\n",
       "    <tr>\n",
       "      <th>9</th>\n",
       "      <td>2017-01-10</td>\n",
       "      <td>9</td>\n",
       "      <td>6</td>\n",
       "      <td>多云~阴</td>\n",
       "      <td>北风</td>\n",
       "      <td>1-2级</td>\n",
       "      <td>109</td>\n",
       "      <td>轻度污染</td>\n",
       "      <td>3</td>\n",
       "    </tr>\n",
       "    <tr>\n",
       "      <th>10</th>\n",
       "      <td>2017-01-11</td>\n",
       "      <td>9</td>\n",
       "      <td>5</td>\n",
       "      <td>小雨</td>\n",
       "      <td>东北风</td>\n",
       "      <td>1-2级</td>\n",
       "      <td>50</td>\n",
       "      <td>优</td>\n",
       "      <td>1</td>\n",
       "    </tr>\n",
       "    <tr>\n",
       "      <th>11</th>\n",
       "      <td>2017-01-12</td>\n",
       "      <td>8</td>\n",
       "      <td>3</td>\n",
       "      <td>小雨~多云</td>\n",
       "      <td>西北风</td>\n",
       "      <td>1-2级</td>\n",
       "      <td>72</td>\n",
       "      <td>良</td>\n",
       "      <td>2</td>\n",
       "    </tr>\n",
       "    <tr>\n",
       "      <th>12</th>\n",
       "      <td>2017-01-13</td>\n",
       "      <td>11</td>\n",
       "      <td>2</td>\n",
       "      <td>晴</td>\n",
       "      <td>西北风</td>\n",
       "      <td>1-2级</td>\n",
       "      <td>127</td>\n",
       "      <td>轻度污染</td>\n",
       "      <td>3</td>\n",
       "    </tr>\n",
       "    <tr>\n",
       "      <th>13</th>\n",
       "      <td>2017-01-14</td>\n",
       "      <td>8</td>\n",
       "      <td>3</td>\n",
       "      <td>多云~阴</td>\n",
       "      <td>北风</td>\n",
       "      <td>1-2级</td>\n",
       "      <td>47</td>\n",
       "      <td>优</td>\n",
       "      <td>1</td>\n",
       "    </tr>\n",
       "    <tr>\n",
       "      <th>14</th>\n",
       "      <td>2017-01-15</td>\n",
       "      <td>7</td>\n",
       "      <td>2</td>\n",
       "      <td>多云</td>\n",
       "      <td>东北风</td>\n",
       "      <td>1-2级</td>\n",
       "      <td>27</td>\n",
       "      <td>优</td>\n",
       "      <td>1</td>\n",
       "    </tr>\n",
       "    <tr>\n",
       "      <th>15</th>\n",
       "      <td>2017-01-16</td>\n",
       "      <td>8</td>\n",
       "      <td>5</td>\n",
       "      <td>多云</td>\n",
       "      <td>东北风</td>\n",
       "      <td>1-2级</td>\n",
       "      <td>31</td>\n",
       "      <td>优</td>\n",
       "      <td>1</td>\n",
       "    </tr>\n",
       "    <tr>\n",
       "      <th>16</th>\n",
       "      <td>2017-01-17</td>\n",
       "      <td>10</td>\n",
       "      <td>7</td>\n",
       "      <td>阴~小雨</td>\n",
       "      <td>东风</td>\n",
       "      <td>1-2级</td>\n",
       "      <td>58</td>\n",
       "      <td>良</td>\n",
       "      <td>2</td>\n",
       "    </tr>\n",
       "    <tr>\n",
       "      <th>17</th>\n",
       "      <td>2017-01-18</td>\n",
       "      <td>9</td>\n",
       "      <td>7</td>\n",
       "      <td>小雨</td>\n",
       "      <td>东风</td>\n",
       "      <td>1-2级</td>\n",
       "      <td>50</td>\n",
       "      <td>优</td>\n",
       "      <td>1</td>\n",
       "    </tr>\n",
       "    <tr>\n",
       "      <th>18</th>\n",
       "      <td>2017-01-19</td>\n",
       "      <td>9</td>\n",
       "      <td>0</td>\n",
       "      <td>小雨~阴</td>\n",
       "      <td>北风</td>\n",
       "      <td>1-2级</td>\n",
       "      <td>102</td>\n",
       "      <td>轻度污染</td>\n",
       "      <td>3</td>\n",
       "    </tr>\n",
       "    <tr>\n",
       "      <th>19</th>\n",
       "      <td>2017-01-20</td>\n",
       "      <td>3</td>\n",
       "      <td>-1</td>\n",
       "      <td>晴~多云</td>\n",
       "      <td>西北风</td>\n",
       "      <td>3-4级</td>\n",
       "      <td>103</td>\n",
       "      <td>轻度污染</td>\n",
       "      <td>3</td>\n",
       "    </tr>\n",
       "    <tr>\n",
       "      <th>20</th>\n",
       "      <td>2017-01-21</td>\n",
       "      <td>6</td>\n",
       "      <td>0</td>\n",
       "      <td>晴~多云</td>\n",
       "      <td>西风</td>\n",
       "      <td>1-2级</td>\n",
       "      <td>48</td>\n",
       "      <td>优</td>\n",
       "      <td>1</td>\n",
       "    </tr>\n",
       "    <tr>\n",
       "      <th>21</th>\n",
       "      <td>2017-01-22</td>\n",
       "      <td>6</td>\n",
       "      <td>0</td>\n",
       "      <td>晴</td>\n",
       "      <td>西北风</td>\n",
       "      <td>1-2级</td>\n",
       "      <td>70</td>\n",
       "      <td>良</td>\n",
       "      <td>2</td>\n",
       "    </tr>\n",
       "    <tr>\n",
       "      <th>22</th>\n",
       "      <td>2017-01-23</td>\n",
       "      <td>7</td>\n",
       "      <td>1</td>\n",
       "      <td>晴</td>\n",
       "      <td>北风</td>\n",
       "      <td>1-2级</td>\n",
       "      <td>39</td>\n",
       "      <td>优</td>\n",
       "      <td>1</td>\n",
       "    </tr>\n",
       "    <tr>\n",
       "      <th>23</th>\n",
       "      <td>2017-01-24</td>\n",
       "      <td>9</td>\n",
       "      <td>3</td>\n",
       "      <td>多云</td>\n",
       "      <td>东北风</td>\n",
       "      <td>1-2级</td>\n",
       "      <td>40</td>\n",
       "      <td>优</td>\n",
       "      <td>1</td>\n",
       "    </tr>\n",
       "    <tr>\n",
       "      <th>24</th>\n",
       "      <td>2017-01-25</td>\n",
       "      <td>10</td>\n",
       "      <td>4</td>\n",
       "      <td>多云~晴</td>\n",
       "      <td>东风</td>\n",
       "      <td>1-2级</td>\n",
       "      <td>75</td>\n",
       "      <td>良</td>\n",
       "      <td>2</td>\n",
       "    </tr>\n",
       "    <tr>\n",
       "      <th>25</th>\n",
       "      <td>2017-01-26</td>\n",
       "      <td>13</td>\n",
       "      <td>5</td>\n",
       "      <td>晴~多云</td>\n",
       "      <td>南风</td>\n",
       "      <td>1-2级</td>\n",
       "      <td>77</td>\n",
       "      <td>良</td>\n",
       "      <td>2</td>\n",
       "    </tr>\n",
       "    <tr>\n",
       "      <th>26</th>\n",
       "      <td>2017-01-27</td>\n",
       "      <td>10</td>\n",
       "      <td>5</td>\n",
       "      <td>多云</td>\n",
       "      <td>东北风</td>\n",
       "      <td>3-4级</td>\n",
       "      <td>77</td>\n",
       "      <td>良</td>\n",
       "      <td>2</td>\n",
       "    </tr>\n",
       "    <tr>\n",
       "      <th>27</th>\n",
       "      <td>2017-01-28</td>\n",
       "      <td>15</td>\n",
       "      <td>8</td>\n",
       "      <td>多云</td>\n",
       "      <td>东南风</td>\n",
       "      <td>1-2级</td>\n",
       "      <td>63</td>\n",
       "      <td>良</td>\n",
       "      <td>2</td>\n",
       "    </tr>\n",
       "    <tr>\n",
       "      <th>28</th>\n",
       "      <td>2017-01-29</td>\n",
       "      <td>20</td>\n",
       "      <td>4</td>\n",
       "      <td>多云~小雨</td>\n",
       "      <td>西南风</td>\n",
       "      <td>1-2级</td>\n",
       "      <td>82</td>\n",
       "      <td>良</td>\n",
       "      <td>2</td>\n",
       "    </tr>\n",
       "    <tr>\n",
       "      <th>29</th>\n",
       "      <td>2017-01-30</td>\n",
       "      <td>6</td>\n",
       "      <td>2</td>\n",
       "      <td>多云</td>\n",
       "      <td>北风</td>\n",
       "      <td>3-4级</td>\n",
       "      <td>42</td>\n",
       "      <td>优</td>\n",
       "      <td>1</td>\n",
       "    </tr>\n",
       "    <tr>\n",
       "      <th>30</th>\n",
       "      <td>2017-01-31</td>\n",
       "      <td>7</td>\n",
       "      <td>3</td>\n",
       "      <td>多云~小雨</td>\n",
       "      <td>东北风</td>\n",
       "      <td>1-2级</td>\n",
       "      <td>26</td>\n",
       "      <td>优</td>\n",
       "      <td>1</td>\n",
       "    </tr>\n",
       "  </tbody>\n",
       "</table>\n",
       "<p>205 rows × 9 columns</p>\n",
       "</div>"
      ],
      "text/plain": [
       "           ymd high low  tianqi fengxiang     fengli   aqi aqiInfo aqiLevel\n",
       "0   2011-01-01    6   2  多云~雨夹雪        北风       4-5级  None    None     None\n",
       "1   2011-01-02    6   2      多云        北风       4-5级  None    None     None\n",
       "2   2011-01-03    7   2    多云~阴       东北风       3-4级  None    None     None\n",
       "3   2011-01-04    6   1      小雨        北风       4-5级  None    None     None\n",
       "4   2011-01-05    5   0    阴~多云        北风       4-5级  None    None     None\n",
       "5   2011-01-06    6   0      多云        北风       3-4级  None    None     None\n",
       "6   2011-01-07    7   2      多云        北风       4-5级  None    None     None\n",
       "7   2011-01-08    7   4    多云~阴       东北风       3-4级  None    None     None\n",
       "8   2011-01-09    7   0    阴~多云        北风       3-4级  None    None     None\n",
       "9   2011-01-10    5   0    多云~阴    东北风~东风  4-5级~3-4级  None    None     None\n",
       "10  2011-01-11    6   2      多云        东风       3-4级  None    None     None\n",
       "11  2011-01-12    7   3    多云~阴       东北风       3-4级  None    None     None\n",
       "12  2011-01-13    6   0    阴~多云       东北风       4-5级  None    None     None\n",
       "13  2011-01-14    5  -2      多云        北风       4-5级  None    None     None\n",
       "14  2011-01-15    3  -1      多云    北风~东北风       4-5级  None    None     None\n",
       "15  2011-01-16    4   0    多云~阴       东北风  4-5级~3-4级  None    None     None\n",
       "16  2011-01-26    7   2       阴       东北风       3-4级  None    None     None\n",
       "17  2011-01-29    4  -2    晴~多云        北风       4-5级  None    None     None\n",
       "18  2011-01-30    4  -3    多云~晴       西北风  4-5级~3-4级  None    None     None\n",
       "19  2011-01-31    7  -2       晴       西北风    微风~3-4级  None    None     None\n",
       "0   2012-01-01    9   4      多云    北风~东北风  4-5级~3-4级  None    None     None\n",
       "1   2012-01-02    8   3    多云~阴       西北风    微风~3-4级  None    None     None\n",
       "2   2012-01-03    6   0    阴~多云       西北风       4-5级  None    None     None\n",
       "3   2012-01-04    4  -1       晴       西北风  4-5级~3-4级  None    None     None\n",
       "4   2012-01-05    5   1    多云~阴        北风       3-4级  None    None     None\n",
       "5   2012-01-06    7   4    阴~多云       东北风       3-4级  None    None     None\n",
       "6   2012-01-07    8   5    多云~阴       东北风       3-4级  None    None     None\n",
       "7   2012-01-08    8   5      小雨       东北风       3-4级  None    None     None\n",
       "8   2012-01-09    9   5       阴       东北风       3-4级  None    None     None\n",
       "9   2012-01-10    9   5       阴       东北风       3-4级  None    None     None\n",
       "..         ...  ...  ..     ...       ...        ...   ...     ...      ...\n",
       "1   2017-01-02   15   8      多云        北风       1-2级    92       良        2\n",
       "2   2017-01-03   14   9    晴~多云        东风       1-2级   131    轻度污染        3\n",
       "3   2017-01-04   15  11   小雨~中雨        东风       1-2级    75       良        2\n",
       "4   2017-01-05   12  11   中雨~小雨        东风       1-2级    44       优        1\n",
       "5   2017-01-06   14  11   小雨~中雨        东风       1-2级    36       优        1\n",
       "6   2017-01-07   13   9      小雨        东风       1-2级    29       优        1\n",
       "7   2017-01-08   10   5    小雨~阴       西北风       3-4级   105    轻度污染        3\n",
       "8   2017-01-09    8   4      多云        北风       1-2级    82       良        2\n",
       "9   2017-01-10    9   6    多云~阴        北风       1-2级   109    轻度污染        3\n",
       "10  2017-01-11    9   5      小雨       东北风       1-2级    50       优        1\n",
       "11  2017-01-12    8   3   小雨~多云       西北风       1-2级    72       良        2\n",
       "12  2017-01-13   11   2       晴       西北风       1-2级   127    轻度污染        3\n",
       "13  2017-01-14    8   3    多云~阴        北风       1-2级    47       优        1\n",
       "14  2017-01-15    7   2      多云       东北风       1-2级    27       优        1\n",
       "15  2017-01-16    8   5      多云       东北风       1-2级    31       优        1\n",
       "16  2017-01-17   10   7    阴~小雨        东风       1-2级    58       良        2\n",
       "17  2017-01-18    9   7      小雨        东风       1-2级    50       优        1\n",
       "18  2017-01-19    9   0    小雨~阴        北风       1-2级   102    轻度污染        3\n",
       "19  2017-01-20    3  -1    晴~多云       西北风       3-4级   103    轻度污染        3\n",
       "20  2017-01-21    6   0    晴~多云        西风       1-2级    48       优        1\n",
       "21  2017-01-22    6   0       晴       西北风       1-2级    70       良        2\n",
       "22  2017-01-23    7   1       晴        北风       1-2级    39       优        1\n",
       "23  2017-01-24    9   3      多云       东北风       1-2级    40       优        1\n",
       "24  2017-01-25   10   4    多云~晴        东风       1-2级    75       良        2\n",
       "25  2017-01-26   13   5    晴~多云        南风       1-2级    77       良        2\n",
       "26  2017-01-27   10   5      多云       东北风       3-4级    77       良        2\n",
       "27  2017-01-28   15   8      多云       东南风       1-2级    63       良        2\n",
       "28  2017-01-29   20   4   多云~小雨       西南风       1-2级    82       良        2\n",
       "29  2017-01-30    6   2      多云        北风       3-4级    42       优        1\n",
       "30  2017-01-31    7   3   多云~小雨       东北风       1-2级    26       优        1\n",
       "\n",
       "[205 rows x 9 columns]"
      ]
     },
     "execution_count": 10,
     "metadata": {},
     "output_type": "execute_result"
    }
   ],
   "source": [
    "weather = pd.concat(info)\n",
    "weather"
   ]
  }
 ],
 "metadata": {
  "anaconda-cloud": {},
  "kernelspec": {
   "display_name": "Python 3",
   "language": "python",
   "name": "python3"
  },
  "language_info": {
   "codemirror_mode": {
    "name": "ipython",
    "version": 3
   },
   "file_extension": ".py",
   "mimetype": "text/x-python",
   "name": "python",
   "nbconvert_exporter": "python",
   "pygments_lexer": "ipython3",
   "version": "3.7.3"
  },
  "toc": {
   "base_numbering": 1,
   "nav_menu": {},
   "number_sections": true,
   "sideBar": true,
   "skip_h1_title": false,
   "title_cell": "Table of Contents",
   "title_sidebar": "Contents",
   "toc_cell": false,
   "toc_position": {},
   "toc_section_display": true,
   "toc_window_display": false
  },
  "varInspector": {
   "cols": {
    "lenName": 16,
    "lenType": 16,
    "lenVar": 40
   },
   "kernels_config": {
    "python": {
     "delete_cmd_postfix": "",
     "delete_cmd_prefix": "del ",
     "library": "var_list.py",
     "varRefreshCmd": "print(var_dic_list())"
    },
    "r": {
     "delete_cmd_postfix": ") ",
     "delete_cmd_prefix": "rm(",
     "library": "var_list.r",
     "varRefreshCmd": "cat(var_dic_list()) "
    }
   },
   "types_to_exclude": [
    "module",
    "function",
    "builtin_function_or_method",
    "instance",
    "_Feature"
   ],
   "window_display": false
  }
 },
 "nbformat": 4,
 "nbformat_minor": 1
}
